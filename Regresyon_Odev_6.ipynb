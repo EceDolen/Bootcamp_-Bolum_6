{
 "cells": [
  {
   "cell_type": "code",
   "execution_count": 1,
   "metadata": {},
   "outputs": [],
   "source": [
    "import pandas as pd\n",
    "import numpy as np\n",
    "import statsmodels.api as sm\n",
    "from sklearn import linear_model \n",
    "import matplotlib.pyplot as plt\n",
    "\n",
    "from sklearn.linear_model import LinearRegression\n",
    "from sklearn.model_selection import train_test_split\n",
    "from sklearn.metrics import mean_absolute_error\n",
    "import statsmodels.api as sm\n",
    "from statsmodels.tools.eval_measures import mse, rmse\n",
    "\n",
    "%matplotlib inline\n",
    "pd.options.display.float_format = '{:.3f}'.format\n",
    "\n",
    "import warnings\n",
    "warnings.filterwarnings(action= \"ignore\")"
   ]
  },
  {
   "cell_type": "markdown",
   "metadata": {},
   "source": [
    "Bu alıştırmada, modelinizi kullanarak konut fiyatlarını tahmin edeceksiniz. Bu ödevi tamamlamak için, aşağıdaki görevlerin çözümlerini içeren bir Jupyter not defterini link olarak gönderin. Kafanıza takılan konuları mentörünüzle konuşabilir ya da ofis saatinde Slack üzerinden sorabilirsiniz.\n",
    "\n",
    "1.  Fiyatları verilerini Kaggle'dan indirin.\n",
    "2. Verilerinizi eğitim ve test kümelerine ayırın.\n",
    "3. Modelinizi eğitim kümesinden önceki derste olduğu gibi oluşturun. Modelinizin uygunluğunu değerlendirin.\n",
    "4. Test kümesindeki ev fiyatlarını tahmin edin ve bu derste belirttiğimiz metrikleri kullanarak modelinizin performansını değerlendirin.\n",
    "5. Modelinizin performansı tatmin edici mi? Açıklayın.\n",
    "6. Bazı değişkenleri ekleyerek veya çıkararak modelinizi tahmin performansı açısından geliştirmeye çalışın."
   ]
  },
  {
   "cell_type": "code",
   "execution_count": 2,
   "metadata": {},
   "outputs": [],
   "source": [
    "ev_fiyatlari = pd.read_csv('data/train.csv', index_col=0)"
   ]
  },
  {
   "cell_type": "code",
   "execution_count": 3,
   "metadata": {},
   "outputs": [],
   "source": [
    "Y = ev_fiyatlari['SalePrice']\n",
    "\n",
    "X = ev_fiyatlari[['YearBuilt', 'TotRmsAbvGrd', 'FullBath' , '1stFlrSF', 'TotalBsmtSF',\n",
    "            'GarageArea', 'GarageCars', 'GrLivArea', 'OverallQual', 'YearRemodAdd']]"
   ]
  },
  {
   "cell_type": "code",
   "execution_count": 4,
   "metadata": {},
   "outputs": [
    {
     "data": {
      "text/plain": [
       "80"
      ]
     },
     "execution_count": 4,
     "metadata": {},
     "output_type": "execute_result"
    }
   ],
   "source": [
    "len(ev_fiyatlari.columns)"
   ]
  },
  {
   "cell_type": "code",
   "execution_count": 5,
   "metadata": {},
   "outputs": [
    {
     "data": {
      "text/plain": [
       "(1460, 80)"
      ]
     },
     "execution_count": 5,
     "metadata": {},
     "output_type": "execute_result"
    }
   ],
   "source": [
    "ev_fiyatlari.shape"
   ]
  },
  {
   "cell_type": "code",
   "execution_count": 6,
   "metadata": {},
   "outputs": [],
   "source": [
    "#SADECE NUMERIK DATAYI ALMAK ICIN \n",
    "\n",
    "ev_fiyatlari_num = ev_fiyatlari._get_numeric_data() "
   ]
  },
  {
   "cell_type": "code",
   "execution_count": 7,
   "metadata": {},
   "outputs": [],
   "source": [
    "#bosluk olan satirin hepsini dusurduk\n",
    "ev_fiyatlari_dropped = ev_fiyatlari.dropna()"
   ]
  },
  {
   "cell_type": "code",
   "execution_count": 8,
   "metadata": {},
   "outputs": [
    {
     "data": {
      "text/plain": [
       "MSSubClass       0\n",
       "MSZoning         0\n",
       "LotFrontage      0\n",
       "LotArea          0\n",
       "Street           0\n",
       "Alley            0\n",
       "LotShape         0\n",
       "LandContour      0\n",
       "Utilities        0\n",
       "LotConfig        0\n",
       "LandSlope        0\n",
       "Neighborhood     0\n",
       "Condition1       0\n",
       "Condition2       0\n",
       "BldgType         0\n",
       "HouseStyle       0\n",
       "OverallQual      0\n",
       "OverallCond      0\n",
       "YearBuilt        0\n",
       "YearRemodAdd     0\n",
       "RoofStyle        0\n",
       "RoofMatl         0\n",
       "Exterior1st      0\n",
       "Exterior2nd      0\n",
       "MasVnrType       0\n",
       "MasVnrArea       0\n",
       "ExterQual        0\n",
       "ExterCond        0\n",
       "Foundation       0\n",
       "BsmtQual         0\n",
       "                ..\n",
       "BedroomAbvGr     0\n",
       "KitchenAbvGr     0\n",
       "KitchenQual      0\n",
       "TotRmsAbvGrd     0\n",
       "Functional       0\n",
       "Fireplaces       0\n",
       "FireplaceQu      0\n",
       "GarageType       0\n",
       "GarageYrBlt      0\n",
       "GarageFinish     0\n",
       "GarageCars       0\n",
       "GarageArea       0\n",
       "GarageQual       0\n",
       "GarageCond       0\n",
       "PavedDrive       0\n",
       "WoodDeckSF       0\n",
       "OpenPorchSF      0\n",
       "EnclosedPorch    0\n",
       "3SsnPorch        0\n",
       "ScreenPorch      0\n",
       "PoolArea         0\n",
       "PoolQC           0\n",
       "Fence            0\n",
       "MiscFeature      0\n",
       "MiscVal          0\n",
       "MoSold           0\n",
       "YrSold           0\n",
       "SaleType         0\n",
       "SaleCondition    0\n",
       "SalePrice        0\n",
       "Length: 80, dtype: int64"
      ]
     },
     "execution_count": 8,
     "metadata": {},
     "output_type": "execute_result"
    }
   ],
   "source": [
    "ev_fiyatlari_dropped.isnull().sum() "
   ]
  },
  {
   "cell_type": "code",
   "execution_count": 9,
   "metadata": {},
   "outputs": [
    {
     "data": {
      "text/plain": [
       "(0, 80)"
      ]
     },
     "execution_count": 9,
     "metadata": {},
     "output_type": "execute_result"
    }
   ],
   "source": [
    "ev_fiyatlari_dropped.shape"
   ]
  },
  {
   "cell_type": "markdown",
   "metadata": {},
   "source": [
    "Veri setinden drop ile cikan satirlar tum verilerin kaybina yol acti. \n",
    "Bu yuzden ilk veri setinden devam ediyoruz. \n"
   ]
  },
  {
   "cell_type": "code",
   "execution_count": 10,
   "metadata": {},
   "outputs": [
    {
     "data": {
      "text/html": [
       "<div>\n",
       "<style scoped>\n",
       "    .dataframe tbody tr th:only-of-type {\n",
       "        vertical-align: middle;\n",
       "    }\n",
       "\n",
       "    .dataframe tbody tr th {\n",
       "        vertical-align: top;\n",
       "    }\n",
       "\n",
       "    .dataframe thead th {\n",
       "        text-align: right;\n",
       "    }\n",
       "</style>\n",
       "<table border=\"1\" class=\"dataframe\">\n",
       "  <thead>\n",
       "    <tr style=\"text-align: right;\">\n",
       "      <th></th>\n",
       "      <th>Total</th>\n",
       "      <th>Percent</th>\n",
       "    </tr>\n",
       "  </thead>\n",
       "  <tbody>\n",
       "    <tr>\n",
       "      <th>PoolQC</th>\n",
       "      <td>1453</td>\n",
       "      <td>0.995</td>\n",
       "    </tr>\n",
       "    <tr>\n",
       "      <th>MiscFeature</th>\n",
       "      <td>1406</td>\n",
       "      <td>0.963</td>\n",
       "    </tr>\n",
       "    <tr>\n",
       "      <th>Alley</th>\n",
       "      <td>1369</td>\n",
       "      <td>0.938</td>\n",
       "    </tr>\n",
       "    <tr>\n",
       "      <th>Fence</th>\n",
       "      <td>1179</td>\n",
       "      <td>0.808</td>\n",
       "    </tr>\n",
       "    <tr>\n",
       "      <th>FireplaceQu</th>\n",
       "      <td>690</td>\n",
       "      <td>0.473</td>\n",
       "    </tr>\n",
       "    <tr>\n",
       "      <th>LotFrontage</th>\n",
       "      <td>259</td>\n",
       "      <td>0.177</td>\n",
       "    </tr>\n",
       "    <tr>\n",
       "      <th>GarageType</th>\n",
       "      <td>81</td>\n",
       "      <td>0.055</td>\n",
       "    </tr>\n",
       "    <tr>\n",
       "      <th>GarageCond</th>\n",
       "      <td>81</td>\n",
       "      <td>0.055</td>\n",
       "    </tr>\n",
       "    <tr>\n",
       "      <th>GarageFinish</th>\n",
       "      <td>81</td>\n",
       "      <td>0.055</td>\n",
       "    </tr>\n",
       "    <tr>\n",
       "      <th>GarageQual</th>\n",
       "      <td>81</td>\n",
       "      <td>0.055</td>\n",
       "    </tr>\n",
       "    <tr>\n",
       "      <th>GarageYrBlt</th>\n",
       "      <td>81</td>\n",
       "      <td>0.055</td>\n",
       "    </tr>\n",
       "    <tr>\n",
       "      <th>BsmtFinType2</th>\n",
       "      <td>38</td>\n",
       "      <td>0.026</td>\n",
       "    </tr>\n",
       "    <tr>\n",
       "      <th>BsmtExposure</th>\n",
       "      <td>38</td>\n",
       "      <td>0.026</td>\n",
       "    </tr>\n",
       "    <tr>\n",
       "      <th>BsmtQual</th>\n",
       "      <td>37</td>\n",
       "      <td>0.025</td>\n",
       "    </tr>\n",
       "    <tr>\n",
       "      <th>BsmtCond</th>\n",
       "      <td>37</td>\n",
       "      <td>0.025</td>\n",
       "    </tr>\n",
       "    <tr>\n",
       "      <th>BsmtFinType1</th>\n",
       "      <td>37</td>\n",
       "      <td>0.025</td>\n",
       "    </tr>\n",
       "    <tr>\n",
       "      <th>MasVnrArea</th>\n",
       "      <td>8</td>\n",
       "      <td>0.005</td>\n",
       "    </tr>\n",
       "    <tr>\n",
       "      <th>MasVnrType</th>\n",
       "      <td>8</td>\n",
       "      <td>0.005</td>\n",
       "    </tr>\n",
       "    <tr>\n",
       "      <th>Electrical</th>\n",
       "      <td>1</td>\n",
       "      <td>0.001</td>\n",
       "    </tr>\n",
       "  </tbody>\n",
       "</table>\n",
       "</div>"
      ],
      "text/plain": [
       "              Total  Percent\n",
       "PoolQC         1453    0.995\n",
       "MiscFeature    1406    0.963\n",
       "Alley          1369    0.938\n",
       "Fence          1179    0.808\n",
       "FireplaceQu     690    0.473\n",
       "LotFrontage     259    0.177\n",
       "GarageType       81    0.055\n",
       "GarageCond       81    0.055\n",
       "GarageFinish     81    0.055\n",
       "GarageQual       81    0.055\n",
       "GarageYrBlt      81    0.055\n",
       "BsmtFinType2     38    0.026\n",
       "BsmtExposure     38    0.026\n",
       "BsmtQual         37    0.025\n",
       "BsmtCond         37    0.025\n",
       "BsmtFinType1     37    0.025\n",
       "MasVnrArea        8    0.005\n",
       "MasVnrType        8    0.005\n",
       "Electrical        1    0.001"
      ]
     },
     "execution_count": 10,
     "metadata": {},
     "output_type": "execute_result"
    }
   ],
   "source": [
    "total = ev_fiyatlari.isnull().sum().sort_values(ascending=False)\n",
    "percent = (ev_fiyatlari.isnull().sum()/ev_fiyatlari.isnull().count()).sort_values(ascending=False)\n",
    "missing_data = pd.concat([total, percent], axis=1, keys=['Total', 'Percent'])\n",
    "missing_data[missing_data.Total>0]"
   ]
  },
  {
   "cell_type": "code",
   "execution_count": 11,
   "metadata": {
    "scrolled": true
   },
   "outputs": [],
   "source": [
    "ev_fiyatlari_dropped_na = ev_fiyatlari.copy()\n",
    "\n",
    "ev_fiyatlari = ev_fiyatlari.drop((missing_data[missing_data['Total'] > 1]).index, axis =1)\n",
    "ev_fiyatlari = ev_fiyatlari.drop(ev_fiyatlari.loc[ev_fiyatlari['Electrical'].isnull()].index)"
   ]
  },
  {
   "cell_type": "code",
   "execution_count": 12,
   "metadata": {},
   "outputs": [],
   "source": [
    "ev_fiyatlari_num_na = ev_fiyatlari._get_numeric_data() "
   ]
  },
  {
   "cell_type": "code",
   "execution_count": 13,
   "metadata": {},
   "outputs": [
    {
     "data": {
      "text/plain": [
       "(1459, 34)"
      ]
     },
     "execution_count": 13,
     "metadata": {},
     "output_type": "execute_result"
    }
   ],
   "source": [
    "ev_fiyatlari_num_na.shape"
   ]
  },
  {
   "cell_type": "code",
   "execution_count": 14,
   "metadata": {},
   "outputs": [],
   "source": [
    "#abs ile mutlak degerlerin eklenmesi \n",
    "corr_list = ev_fiyatlari_num_na.corr().SalePrice.abs().sort_values(ascending = False).index[1:]  #sales price eklenmesin yeniden listeye diye"
   ]
  },
  {
   "cell_type": "code",
   "execution_count": 15,
   "metadata": {},
   "outputs": [
    {
     "data": {
      "text/plain": [
       "Index(['OverallQual', 'GrLivArea', 'GarageCars', 'GarageArea', 'TotalBsmtSF',\n",
       "       '1stFlrSF', 'FullBath', 'TotRmsAbvGrd', 'YearBuilt', 'YearRemodAdd',\n",
       "       'Fireplaces', 'BsmtFinSF1', 'WoodDeckSF', '2ndFlrSF', 'OpenPorchSF',\n",
       "       'HalfBath', 'LotArea', 'BsmtFullBath', 'BsmtUnfSF', 'BedroomAbvGr',\n",
       "       'KitchenAbvGr', 'EnclosedPorch', 'ScreenPorch', 'PoolArea',\n",
       "       'MSSubClass', 'OverallCond', 'MoSold', '3SsnPorch', 'YrSold',\n",
       "       'LowQualFinSF', 'MiscVal', 'BsmtHalfBath', 'BsmtFinSF2'],\n",
       "      dtype='object')"
      ]
     },
     "execution_count": 15,
     "metadata": {},
     "output_type": "execute_result"
    }
   ],
   "source": [
    "corr_list"
   ]
  },
  {
   "cell_type": "code",
   "execution_count": 16,
   "metadata": {},
   "outputs": [],
   "source": [
    "y_AllValues_afterDropped = ev_fiyatlari_num_na['SalePrice'] \n",
    "X_AllValues_afterDropped = ev_fiyatlari_num_na[corr_list]"
   ]
  },
  {
   "cell_type": "code",
   "execution_count": 17,
   "metadata": {},
   "outputs": [
    {
     "name": "stdout",
     "output_type": "stream",
     "text": [
      "Eğitim kümesindeki gözlem sayısı : 1167\n",
      "Test kümesindeki gözlem sayısı   : 292\n"
     ]
    }
   ],
   "source": [
    "X_train, X_test, y_train, y_test = train_test_split(X_AllValues_afterDropped, y_AllValues_afterDropped, test_size = 0.2, random_state = 500)\n",
    "\n",
    "print(\"Eğitim kümesindeki gözlem sayısı : {}\".format(X_train.shape[0]))\n",
    "print(\"Test kümesindeki gözlem sayısı   : {}\".format(X_test.shape[0]))"
   ]
  },
  {
   "cell_type": "code",
   "execution_count": 18,
   "metadata": {},
   "outputs": [
    {
     "data": {
      "text/html": [
       "<table class=\"simpletable\">\n",
       "<caption>OLS Regression Results</caption>\n",
       "<tr>\n",
       "  <th>Dep. Variable:</th>        <td>SalePrice</td>    <th>  R-squared:         </th> <td>   0.799</td> \n",
       "</tr>\n",
       "<tr>\n",
       "  <th>Model:</th>                   <td>OLS</td>       <th>  Adj. R-squared:    </th> <td>   0.794</td> \n",
       "</tr>\n",
       "<tr>\n",
       "  <th>Method:</th>             <td>Least Squares</td>  <th>  F-statistic:       </th> <td>   146.0</td> \n",
       "</tr>\n",
       "<tr>\n",
       "  <th>Date:</th>             <td>Mon, 22 Apr 2019</td> <th>  Prob (F-statistic):</th>  <td>  0.00</td>  \n",
       "</tr>\n",
       "<tr>\n",
       "  <th>Time:</th>                 <td>22:27:45</td>     <th>  Log-Likelihood:    </th> <td> -13904.</td> \n",
       "</tr>\n",
       "<tr>\n",
       "  <th>No. Observations:</th>      <td>  1167</td>      <th>  AIC:               </th> <td>2.787e+04</td>\n",
       "</tr>\n",
       "<tr>\n",
       "  <th>Df Residuals:</th>          <td>  1135</td>      <th>  BIC:               </th> <td>2.803e+04</td>\n",
       "</tr>\n",
       "<tr>\n",
       "  <th>Df Model:</th>              <td>    31</td>      <th>                     </th>     <td> </td>    \n",
       "</tr>\n",
       "<tr>\n",
       "  <th>Covariance Type:</th>      <td>nonrobust</td>    <th>                     </th>     <td> </td>    \n",
       "</tr>\n",
       "</table>\n",
       "<table class=\"simpletable\">\n",
       "<tr>\n",
       "        <td></td>           <th>coef</th>     <th>std err</th>      <th>t</th>      <th>P>|t|</th>  <th>[0.025</th>    <th>0.975]</th>  \n",
       "</tr>\n",
       "<tr>\n",
       "  <th>const</th>         <td> 6.322e+05</td> <td> 1.66e+06</td> <td>    0.380</td> <td> 0.704</td> <td>-2.63e+06</td> <td>  3.9e+06</td>\n",
       "</tr>\n",
       "<tr>\n",
       "  <th>OverallQual</th>   <td> 1.811e+04</td> <td> 1387.986</td> <td>   13.045</td> <td> 0.000</td> <td> 1.54e+04</td> <td> 2.08e+04</td>\n",
       "</tr>\n",
       "<tr>\n",
       "  <th>GrLivArea</th>     <td>   27.4365</td> <td>    7.054</td> <td>    3.889</td> <td> 0.000</td> <td>   13.596</td> <td>   41.277</td>\n",
       "</tr>\n",
       "<tr>\n",
       "  <th>GarageCars</th>    <td> 1.187e+04</td> <td> 3396.804</td> <td>    3.494</td> <td> 0.000</td> <td> 5202.974</td> <td> 1.85e+04</td>\n",
       "</tr>\n",
       "<tr>\n",
       "  <th>GarageArea</th>    <td>   -4.4580</td> <td>   11.471</td> <td>   -0.389</td> <td> 0.698</td> <td>  -26.965</td> <td>   18.049</td>\n",
       "</tr>\n",
       "<tr>\n",
       "  <th>TotalBsmtSF</th>   <td>   10.3438</td> <td>    3.987</td> <td>    2.594</td> <td> 0.010</td> <td>    2.521</td> <td>   18.167</td>\n",
       "</tr>\n",
       "<tr>\n",
       "  <th>1stFlrSF</th>      <td>   17.0746</td> <td>    7.450</td> <td>    2.292</td> <td> 0.022</td> <td>    2.458</td> <td>   31.692</td>\n",
       "</tr>\n",
       "<tr>\n",
       "  <th>FullBath</th>      <td> 4553.8989</td> <td> 3346.675</td> <td>    1.361</td> <td> 0.174</td> <td>-2012.465</td> <td> 1.11e+04</td>\n",
       "</tr>\n",
       "<tr>\n",
       "  <th>TotRmsAbvGrd</th>  <td> 5973.4093</td> <td> 1456.743</td> <td>    4.101</td> <td> 0.000</td> <td> 3115.197</td> <td> 8831.622</td>\n",
       "</tr>\n",
       "<tr>\n",
       "  <th>YearBuilt</th>     <td>  345.1552</td> <td>   73.889</td> <td>    4.671</td> <td> 0.000</td> <td>  200.181</td> <td>  490.129</td>\n",
       "</tr>\n",
       "<tr>\n",
       "  <th>YearRemodAdd</th>  <td>  147.2877</td> <td>   78.570</td> <td>    1.875</td> <td> 0.061</td> <td>   -6.871</td> <td>  301.447</td>\n",
       "</tr>\n",
       "<tr>\n",
       "  <th>Fireplaces</th>    <td> 3552.6717</td> <td> 2098.438</td> <td>    1.693</td> <td> 0.091</td> <td> -564.581</td> <td> 7669.925</td>\n",
       "</tr>\n",
       "<tr>\n",
       "  <th>BsmtFinSF1</th>    <td>    9.7549</td> <td>    2.880</td> <td>    3.387</td> <td> 0.001</td> <td>    4.104</td> <td>   15.406</td>\n",
       "</tr>\n",
       "<tr>\n",
       "  <th>WoodDeckSF</th>    <td>   27.1088</td> <td>    9.434</td> <td>    2.874</td> <td> 0.004</td> <td>    8.600</td> <td>   45.618</td>\n",
       "</tr>\n",
       "<tr>\n",
       "  <th>2ndFlrSF</th>      <td>   20.8706</td> <td>    6.798</td> <td>    3.070</td> <td> 0.002</td> <td>    7.532</td> <td>   34.209</td>\n",
       "</tr>\n",
       "<tr>\n",
       "  <th>OpenPorchSF</th>   <td>  -20.6027</td> <td>   18.009</td> <td>   -1.144</td> <td> 0.253</td> <td>  -55.936</td> <td>   14.731</td>\n",
       "</tr>\n",
       "<tr>\n",
       "  <th>HalfBath</th>      <td>   23.4132</td> <td> 3188.818</td> <td>    0.007</td> <td> 0.994</td> <td>-6233.227</td> <td> 6280.053</td>\n",
       "</tr>\n",
       "<tr>\n",
       "  <th>LotArea</th>       <td>    0.4059</td> <td>    0.120</td> <td>    3.395</td> <td> 0.001</td> <td>    0.171</td> <td>    0.641</td>\n",
       "</tr>\n",
       "<tr>\n",
       "  <th>BsmtFullBath</th>  <td> 1.108e+04</td> <td> 3023.598</td> <td>    3.665</td> <td> 0.000</td> <td> 5147.982</td> <td>  1.7e+04</td>\n",
       "</tr>\n",
       "<tr>\n",
       "  <th>BsmtUnfSF</th>     <td>    2.2319</td> <td>    2.794</td> <td>    0.799</td> <td> 0.425</td> <td>   -3.249</td> <td>    7.713</td>\n",
       "</tr>\n",
       "<tr>\n",
       "  <th>BedroomAbvGr</th>  <td>-1.102e+04</td> <td> 2043.861</td> <td>   -5.392</td> <td> 0.000</td> <td> -1.5e+04</td> <td>-7010.883</td>\n",
       "</tr>\n",
       "<tr>\n",
       "  <th>KitchenAbvGr</th>  <td>-1.133e+04</td> <td> 6344.295</td> <td>   -1.786</td> <td> 0.074</td> <td>-2.38e+04</td> <td> 1113.936</td>\n",
       "</tr>\n",
       "<tr>\n",
       "  <th>EnclosedPorch</th> <td>    9.3737</td> <td>   19.711</td> <td>    0.476</td> <td> 0.634</td> <td>  -29.300</td> <td>   48.047</td>\n",
       "</tr>\n",
       "<tr>\n",
       "  <th>ScreenPorch</th>   <td>   83.9343</td> <td>   20.994</td> <td>    3.998</td> <td> 0.000</td> <td>   42.743</td> <td>  125.126</td>\n",
       "</tr>\n",
       "<tr>\n",
       "  <th>PoolArea</th>      <td>  -70.5121</td> <td>   28.934</td> <td>   -2.437</td> <td> 0.015</td> <td> -127.283</td> <td>  -13.741</td>\n",
       "</tr>\n",
       "<tr>\n",
       "  <th>MSSubClass</th>    <td> -177.2420</td> <td>   30.502</td> <td>   -5.811</td> <td> 0.000</td> <td> -237.089</td> <td> -117.395</td>\n",
       "</tr>\n",
       "<tr>\n",
       "  <th>OverallCond</th>   <td> 4233.9558</td> <td> 1177.719</td> <td>    3.595</td> <td> 0.000</td> <td> 1923.205</td> <td> 6544.706</td>\n",
       "</tr>\n",
       "<tr>\n",
       "  <th>MoSold</th>        <td> -198.8863</td> <td>  406.296</td> <td>   -0.490</td> <td> 0.625</td> <td> -996.062</td> <td>  598.289</td>\n",
       "</tr>\n",
       "<tr>\n",
       "  <th>3SsnPorch</th>     <td>    2.6431</td> <td>   48.162</td> <td>    0.055</td> <td> 0.956</td> <td>  -91.853</td> <td>   97.139</td>\n",
       "</tr>\n",
       "<tr>\n",
       "  <th>YrSold</th>        <td> -830.3528</td> <td>  825.541</td> <td>   -1.006</td> <td> 0.315</td> <td>-2450.111</td> <td>  789.406</td>\n",
       "</tr>\n",
       "<tr>\n",
       "  <th>LowQualFinSF</th>  <td>  -10.5087</td> <td>   18.277</td> <td>   -0.575</td> <td> 0.565</td> <td>  -46.370</td> <td>   25.352</td>\n",
       "</tr>\n",
       "<tr>\n",
       "  <th>MiscVal</th>       <td>   -2.9795</td> <td>    3.486</td> <td>   -0.855</td> <td> 0.393</td> <td>   -9.820</td> <td>    3.861</td>\n",
       "</tr>\n",
       "<tr>\n",
       "  <th>BsmtHalfBath</th>  <td> 5769.4732</td> <td> 4763.171</td> <td>    1.211</td> <td> 0.226</td> <td>-3576.136</td> <td> 1.51e+04</td>\n",
       "</tr>\n",
       "<tr>\n",
       "  <th>BsmtFinSF2</th>    <td>   -1.6430</td> <td>    5.115</td> <td>   -0.321</td> <td> 0.748</td> <td>  -11.679</td> <td>    8.393</td>\n",
       "</tr>\n",
       "</table>\n",
       "<table class=\"simpletable\">\n",
       "<tr>\n",
       "  <th>Omnibus:</th>       <td>376.622</td> <th>  Durbin-Watson:     </th> <td>   1.947</td> \n",
       "</tr>\n",
       "<tr>\n",
       "  <th>Prob(Omnibus):</th> <td> 0.000</td>  <th>  Jarque-Bera (JB):  </th> <td>61690.250</td>\n",
       "</tr>\n",
       "<tr>\n",
       "  <th>Skew:</th>          <td>-0.160</td>  <th>  Prob(JB):          </th> <td>    0.00</td> \n",
       "</tr>\n",
       "<tr>\n",
       "  <th>Kurtosis:</th>      <td>38.617</td>  <th>  Cond. No.          </th> <td>1.31e+16</td> \n",
       "</tr>\n",
       "</table><br/><br/>Warnings:<br/>[1] Standard Errors assume that the covariance matrix of the errors is correctly specified.<br/>[2] The smallest eigenvalue is 1.51e-21. This might indicate that there are<br/>strong multicollinearity problems or that the design matrix is singular."
      ],
      "text/plain": [
       "<class 'statsmodels.iolib.summary.Summary'>\n",
       "\"\"\"\n",
       "                            OLS Regression Results                            \n",
       "==============================================================================\n",
       "Dep. Variable:              SalePrice   R-squared:                       0.799\n",
       "Model:                            OLS   Adj. R-squared:                  0.794\n",
       "Method:                 Least Squares   F-statistic:                     146.0\n",
       "Date:                Mon, 22 Apr 2019   Prob (F-statistic):               0.00\n",
       "Time:                        22:27:45   Log-Likelihood:                -13904.\n",
       "No. Observations:                1167   AIC:                         2.787e+04\n",
       "Df Residuals:                    1135   BIC:                         2.803e+04\n",
       "Df Model:                          31                                         \n",
       "Covariance Type:            nonrobust                                         \n",
       "=================================================================================\n",
       "                    coef    std err          t      P>|t|      [0.025      0.975]\n",
       "---------------------------------------------------------------------------------\n",
       "const          6.322e+05   1.66e+06      0.380      0.704   -2.63e+06     3.9e+06\n",
       "OverallQual    1.811e+04   1387.986     13.045      0.000    1.54e+04    2.08e+04\n",
       "GrLivArea        27.4365      7.054      3.889      0.000      13.596      41.277\n",
       "GarageCars     1.187e+04   3396.804      3.494      0.000    5202.974    1.85e+04\n",
       "GarageArea       -4.4580     11.471     -0.389      0.698     -26.965      18.049\n",
       "TotalBsmtSF      10.3438      3.987      2.594      0.010       2.521      18.167\n",
       "1stFlrSF         17.0746      7.450      2.292      0.022       2.458      31.692\n",
       "FullBath       4553.8989   3346.675      1.361      0.174   -2012.465    1.11e+04\n",
       "TotRmsAbvGrd   5973.4093   1456.743      4.101      0.000    3115.197    8831.622\n",
       "YearBuilt       345.1552     73.889      4.671      0.000     200.181     490.129\n",
       "YearRemodAdd    147.2877     78.570      1.875      0.061      -6.871     301.447\n",
       "Fireplaces     3552.6717   2098.438      1.693      0.091    -564.581    7669.925\n",
       "BsmtFinSF1        9.7549      2.880      3.387      0.001       4.104      15.406\n",
       "WoodDeckSF       27.1088      9.434      2.874      0.004       8.600      45.618\n",
       "2ndFlrSF         20.8706      6.798      3.070      0.002       7.532      34.209\n",
       "OpenPorchSF     -20.6027     18.009     -1.144      0.253     -55.936      14.731\n",
       "HalfBath         23.4132   3188.818      0.007      0.994   -6233.227    6280.053\n",
       "LotArea           0.4059      0.120      3.395      0.001       0.171       0.641\n",
       "BsmtFullBath   1.108e+04   3023.598      3.665      0.000    5147.982     1.7e+04\n",
       "BsmtUnfSF         2.2319      2.794      0.799      0.425      -3.249       7.713\n",
       "BedroomAbvGr  -1.102e+04   2043.861     -5.392      0.000    -1.5e+04   -7010.883\n",
       "KitchenAbvGr  -1.133e+04   6344.295     -1.786      0.074   -2.38e+04    1113.936\n",
       "EnclosedPorch     9.3737     19.711      0.476      0.634     -29.300      48.047\n",
       "ScreenPorch      83.9343     20.994      3.998      0.000      42.743     125.126\n",
       "PoolArea        -70.5121     28.934     -2.437      0.015    -127.283     -13.741\n",
       "MSSubClass     -177.2420     30.502     -5.811      0.000    -237.089    -117.395\n",
       "OverallCond    4233.9558   1177.719      3.595      0.000    1923.205    6544.706\n",
       "MoSold         -198.8863    406.296     -0.490      0.625    -996.062     598.289\n",
       "3SsnPorch         2.6431     48.162      0.055      0.956     -91.853      97.139\n",
       "YrSold         -830.3528    825.541     -1.006      0.315   -2450.111     789.406\n",
       "LowQualFinSF    -10.5087     18.277     -0.575      0.565     -46.370      25.352\n",
       "MiscVal          -2.9795      3.486     -0.855      0.393      -9.820       3.861\n",
       "BsmtHalfBath   5769.4732   4763.171      1.211      0.226   -3576.136    1.51e+04\n",
       "BsmtFinSF2       -1.6430      5.115     -0.321      0.748     -11.679       8.393\n",
       "==============================================================================\n",
       "Omnibus:                      376.622   Durbin-Watson:                   1.947\n",
       "Prob(Omnibus):                  0.000   Jarque-Bera (JB):            61690.250\n",
       "Skew:                          -0.160   Prob(JB):                         0.00\n",
       "Kurtosis:                      38.617   Cond. No.                     1.31e+16\n",
       "==============================================================================\n",
       "\n",
       "Warnings:\n",
       "[1] Standard Errors assume that the covariance matrix of the errors is correctly specified.\n",
       "[2] The smallest eigenvalue is 1.51e-21. This might indicate that there are\n",
       "strong multicollinearity problems or that the design matrix is singular.\n",
       "\"\"\""
      ]
     },
     "execution_count": 18,
     "metadata": {},
     "output_type": "execute_result"
    }
   ],
   "source": [
    "X_train = sm.add_constant(X_train)\n",
    "\n",
    "tum_degiskenli_model = sm.OLS(y_train, X_train).fit()\n",
    "\n",
    "tum_degiskenli_model.summary()"
   ]
  },
  {
   "cell_type": "code",
   "execution_count": 19,
   "metadata": {},
   "outputs": [],
   "source": [
    "#Ayni islemi Sales Pice degerlerini drop ile dusurerek de yapabilirdik. \n",
    "\n",
    "y_with_drop = ev_fiyatlari_num_na['SalePrice'] \n",
    "X_with_drop = ev_fiyatlari_num_na.drop('SalePrice', axis =1)"
   ]
  },
  {
   "cell_type": "code",
   "execution_count": 20,
   "metadata": {},
   "outputs": [
    {
     "name": "stdout",
     "output_type": "stream",
     "text": [
      "Eğitim kümesindeki gözlem sayısı : 1167\n",
      "Test kümesindeki gözlem sayısı   : 292\n"
     ]
    }
   ],
   "source": [
    "X_train, X_test, y_train, y_test = train_test_split(X_with_drop, y_with_drop, test_size = 0.2, random_state = 500)\n",
    "\n",
    "print(\"Eğitim kümesindeki gözlem sayısı : {}\".format(X_train.shape[0]))\n",
    "print(\"Test kümesindeki gözlem sayısı   : {}\".format(X_test.shape[0]))"
   ]
  },
  {
   "cell_type": "code",
   "execution_count": 21,
   "metadata": {},
   "outputs": [
    {
     "data": {
      "text/html": [
       "<table class=\"simpletable\">\n",
       "<caption>OLS Regression Results</caption>\n",
       "<tr>\n",
       "  <th>Dep. Variable:</th>        <td>SalePrice</td>    <th>  R-squared:         </th> <td>   0.799</td> \n",
       "</tr>\n",
       "<tr>\n",
       "  <th>Model:</th>                   <td>OLS</td>       <th>  Adj. R-squared:    </th> <td>   0.794</td> \n",
       "</tr>\n",
       "<tr>\n",
       "  <th>Method:</th>             <td>Least Squares</td>  <th>  F-statistic:       </th> <td>   146.0</td> \n",
       "</tr>\n",
       "<tr>\n",
       "  <th>Date:</th>             <td>Mon, 22 Apr 2019</td> <th>  Prob (F-statistic):</th>  <td>  0.00</td>  \n",
       "</tr>\n",
       "<tr>\n",
       "  <th>Time:</th>                 <td>22:27:45</td>     <th>  Log-Likelihood:    </th> <td> -13904.</td> \n",
       "</tr>\n",
       "<tr>\n",
       "  <th>No. Observations:</th>      <td>  1167</td>      <th>  AIC:               </th> <td>2.787e+04</td>\n",
       "</tr>\n",
       "<tr>\n",
       "  <th>Df Residuals:</th>          <td>  1135</td>      <th>  BIC:               </th> <td>2.803e+04</td>\n",
       "</tr>\n",
       "<tr>\n",
       "  <th>Df Model:</th>              <td>    31</td>      <th>                     </th>     <td> </td>    \n",
       "</tr>\n",
       "<tr>\n",
       "  <th>Covariance Type:</th>      <td>nonrobust</td>    <th>                     </th>     <td> </td>    \n",
       "</tr>\n",
       "</table>\n",
       "<table class=\"simpletable\">\n",
       "<tr>\n",
       "        <td></td>           <th>coef</th>     <th>std err</th>      <th>t</th>      <th>P>|t|</th>  <th>[0.025</th>    <th>0.975]</th>  \n",
       "</tr>\n",
       "<tr>\n",
       "  <th>const</th>         <td> 6.322e+05</td> <td> 1.66e+06</td> <td>    0.380</td> <td> 0.704</td> <td>-2.63e+06</td> <td>  3.9e+06</td>\n",
       "</tr>\n",
       "<tr>\n",
       "  <th>MSSubClass</th>    <td> -177.2420</td> <td>   30.502</td> <td>   -5.811</td> <td> 0.000</td> <td> -237.089</td> <td> -117.395</td>\n",
       "</tr>\n",
       "<tr>\n",
       "  <th>LotArea</th>       <td>    0.4059</td> <td>    0.120</td> <td>    3.395</td> <td> 0.001</td> <td>    0.171</td> <td>    0.641</td>\n",
       "</tr>\n",
       "<tr>\n",
       "  <th>OverallQual</th>   <td> 1.811e+04</td> <td> 1387.986</td> <td>   13.045</td> <td> 0.000</td> <td> 1.54e+04</td> <td> 2.08e+04</td>\n",
       "</tr>\n",
       "<tr>\n",
       "  <th>OverallCond</th>   <td> 4233.9558</td> <td> 1177.719</td> <td>    3.595</td> <td> 0.000</td> <td> 1923.205</td> <td> 6544.706</td>\n",
       "</tr>\n",
       "<tr>\n",
       "  <th>YearBuilt</th>     <td>  345.1552</td> <td>   73.889</td> <td>    4.671</td> <td> 0.000</td> <td>  200.181</td> <td>  490.129</td>\n",
       "</tr>\n",
       "<tr>\n",
       "  <th>YearRemodAdd</th>  <td>  147.2877</td> <td>   78.570</td> <td>    1.875</td> <td> 0.061</td> <td>   -6.871</td> <td>  301.447</td>\n",
       "</tr>\n",
       "<tr>\n",
       "  <th>BsmtFinSF1</th>    <td>    9.7549</td> <td>    2.880</td> <td>    3.387</td> <td> 0.001</td> <td>    4.104</td> <td>   15.406</td>\n",
       "</tr>\n",
       "<tr>\n",
       "  <th>BsmtFinSF2</th>    <td>   -1.6430</td> <td>    5.115</td> <td>   -0.321</td> <td> 0.748</td> <td>  -11.679</td> <td>    8.393</td>\n",
       "</tr>\n",
       "<tr>\n",
       "  <th>BsmtUnfSF</th>     <td>    2.2319</td> <td>    2.794</td> <td>    0.799</td> <td> 0.425</td> <td>   -3.249</td> <td>    7.713</td>\n",
       "</tr>\n",
       "<tr>\n",
       "  <th>TotalBsmtSF</th>   <td>   10.3438</td> <td>    3.987</td> <td>    2.594</td> <td> 0.010</td> <td>    2.521</td> <td>   18.167</td>\n",
       "</tr>\n",
       "<tr>\n",
       "  <th>1stFlrSF</th>      <td>   17.0746</td> <td>    7.450</td> <td>    2.292</td> <td> 0.022</td> <td>    2.458</td> <td>   31.692</td>\n",
       "</tr>\n",
       "<tr>\n",
       "  <th>2ndFlrSF</th>      <td>   20.8706</td> <td>    6.798</td> <td>    3.070</td> <td> 0.002</td> <td>    7.532</td> <td>   34.209</td>\n",
       "</tr>\n",
       "<tr>\n",
       "  <th>LowQualFinSF</th>  <td>  -10.5087</td> <td>   18.277</td> <td>   -0.575</td> <td> 0.565</td> <td>  -46.370</td> <td>   25.352</td>\n",
       "</tr>\n",
       "<tr>\n",
       "  <th>GrLivArea</th>     <td>   27.4365</td> <td>    7.054</td> <td>    3.889</td> <td> 0.000</td> <td>   13.596</td> <td>   41.277</td>\n",
       "</tr>\n",
       "<tr>\n",
       "  <th>BsmtFullBath</th>  <td> 1.108e+04</td> <td> 3023.598</td> <td>    3.665</td> <td> 0.000</td> <td> 5147.982</td> <td>  1.7e+04</td>\n",
       "</tr>\n",
       "<tr>\n",
       "  <th>BsmtHalfBath</th>  <td> 5769.4732</td> <td> 4763.171</td> <td>    1.211</td> <td> 0.226</td> <td>-3576.136</td> <td> 1.51e+04</td>\n",
       "</tr>\n",
       "<tr>\n",
       "  <th>FullBath</th>      <td> 4553.8989</td> <td> 3346.675</td> <td>    1.361</td> <td> 0.174</td> <td>-2012.465</td> <td> 1.11e+04</td>\n",
       "</tr>\n",
       "<tr>\n",
       "  <th>HalfBath</th>      <td>   23.4132</td> <td> 3188.818</td> <td>    0.007</td> <td> 0.994</td> <td>-6233.227</td> <td> 6280.053</td>\n",
       "</tr>\n",
       "<tr>\n",
       "  <th>BedroomAbvGr</th>  <td>-1.102e+04</td> <td> 2043.861</td> <td>   -5.392</td> <td> 0.000</td> <td> -1.5e+04</td> <td>-7010.883</td>\n",
       "</tr>\n",
       "<tr>\n",
       "  <th>KitchenAbvGr</th>  <td>-1.133e+04</td> <td> 6344.295</td> <td>   -1.786</td> <td> 0.074</td> <td>-2.38e+04</td> <td> 1113.936</td>\n",
       "</tr>\n",
       "<tr>\n",
       "  <th>TotRmsAbvGrd</th>  <td> 5973.4093</td> <td> 1456.743</td> <td>    4.101</td> <td> 0.000</td> <td> 3115.197</td> <td> 8831.622</td>\n",
       "</tr>\n",
       "<tr>\n",
       "  <th>Fireplaces</th>    <td> 3552.6717</td> <td> 2098.438</td> <td>    1.693</td> <td> 0.091</td> <td> -564.581</td> <td> 7669.925</td>\n",
       "</tr>\n",
       "<tr>\n",
       "  <th>GarageCars</th>    <td> 1.187e+04</td> <td> 3396.804</td> <td>    3.494</td> <td> 0.000</td> <td> 5202.974</td> <td> 1.85e+04</td>\n",
       "</tr>\n",
       "<tr>\n",
       "  <th>GarageArea</th>    <td>   -4.4580</td> <td>   11.471</td> <td>   -0.389</td> <td> 0.698</td> <td>  -26.965</td> <td>   18.049</td>\n",
       "</tr>\n",
       "<tr>\n",
       "  <th>WoodDeckSF</th>    <td>   27.1088</td> <td>    9.434</td> <td>    2.874</td> <td> 0.004</td> <td>    8.600</td> <td>   45.618</td>\n",
       "</tr>\n",
       "<tr>\n",
       "  <th>OpenPorchSF</th>   <td>  -20.6027</td> <td>   18.009</td> <td>   -1.144</td> <td> 0.253</td> <td>  -55.936</td> <td>   14.731</td>\n",
       "</tr>\n",
       "<tr>\n",
       "  <th>EnclosedPorch</th> <td>    9.3737</td> <td>   19.711</td> <td>    0.476</td> <td> 0.634</td> <td>  -29.300</td> <td>   48.047</td>\n",
       "</tr>\n",
       "<tr>\n",
       "  <th>3SsnPorch</th>     <td>    2.6431</td> <td>   48.162</td> <td>    0.055</td> <td> 0.956</td> <td>  -91.853</td> <td>   97.139</td>\n",
       "</tr>\n",
       "<tr>\n",
       "  <th>ScreenPorch</th>   <td>   83.9343</td> <td>   20.994</td> <td>    3.998</td> <td> 0.000</td> <td>   42.743</td> <td>  125.126</td>\n",
       "</tr>\n",
       "<tr>\n",
       "  <th>PoolArea</th>      <td>  -70.5121</td> <td>   28.934</td> <td>   -2.437</td> <td> 0.015</td> <td> -127.283</td> <td>  -13.741</td>\n",
       "</tr>\n",
       "<tr>\n",
       "  <th>MiscVal</th>       <td>   -2.9795</td> <td>    3.486</td> <td>   -0.855</td> <td> 0.393</td> <td>   -9.820</td> <td>    3.861</td>\n",
       "</tr>\n",
       "<tr>\n",
       "  <th>MoSold</th>        <td> -198.8863</td> <td>  406.296</td> <td>   -0.490</td> <td> 0.625</td> <td> -996.062</td> <td>  598.289</td>\n",
       "</tr>\n",
       "<tr>\n",
       "  <th>YrSold</th>        <td> -830.3528</td> <td>  825.541</td> <td>   -1.006</td> <td> 0.315</td> <td>-2450.111</td> <td>  789.406</td>\n",
       "</tr>\n",
       "</table>\n",
       "<table class=\"simpletable\">\n",
       "<tr>\n",
       "  <th>Omnibus:</th>       <td>376.622</td> <th>  Durbin-Watson:     </th> <td>   1.947</td> \n",
       "</tr>\n",
       "<tr>\n",
       "  <th>Prob(Omnibus):</th> <td> 0.000</td>  <th>  Jarque-Bera (JB):  </th> <td>61690.250</td>\n",
       "</tr>\n",
       "<tr>\n",
       "  <th>Skew:</th>          <td>-0.160</td>  <th>  Prob(JB):          </th> <td>    0.00</td> \n",
       "</tr>\n",
       "<tr>\n",
       "  <th>Kurtosis:</th>      <td>38.617</td>  <th>  Cond. No.          </th> <td>1.31e+16</td> \n",
       "</tr>\n",
       "</table><br/><br/>Warnings:<br/>[1] Standard Errors assume that the covariance matrix of the errors is correctly specified.<br/>[2] The smallest eigenvalue is 1.51e-21. This might indicate that there are<br/>strong multicollinearity problems or that the design matrix is singular."
      ],
      "text/plain": [
       "<class 'statsmodels.iolib.summary.Summary'>\n",
       "\"\"\"\n",
       "                            OLS Regression Results                            \n",
       "==============================================================================\n",
       "Dep. Variable:              SalePrice   R-squared:                       0.799\n",
       "Model:                            OLS   Adj. R-squared:                  0.794\n",
       "Method:                 Least Squares   F-statistic:                     146.0\n",
       "Date:                Mon, 22 Apr 2019   Prob (F-statistic):               0.00\n",
       "Time:                        22:27:45   Log-Likelihood:                -13904.\n",
       "No. Observations:                1167   AIC:                         2.787e+04\n",
       "Df Residuals:                    1135   BIC:                         2.803e+04\n",
       "Df Model:                          31                                         \n",
       "Covariance Type:            nonrobust                                         \n",
       "=================================================================================\n",
       "                    coef    std err          t      P>|t|      [0.025      0.975]\n",
       "---------------------------------------------------------------------------------\n",
       "const          6.322e+05   1.66e+06      0.380      0.704   -2.63e+06     3.9e+06\n",
       "MSSubClass     -177.2420     30.502     -5.811      0.000    -237.089    -117.395\n",
       "LotArea           0.4059      0.120      3.395      0.001       0.171       0.641\n",
       "OverallQual    1.811e+04   1387.986     13.045      0.000    1.54e+04    2.08e+04\n",
       "OverallCond    4233.9558   1177.719      3.595      0.000    1923.205    6544.706\n",
       "YearBuilt       345.1552     73.889      4.671      0.000     200.181     490.129\n",
       "YearRemodAdd    147.2877     78.570      1.875      0.061      -6.871     301.447\n",
       "BsmtFinSF1        9.7549      2.880      3.387      0.001       4.104      15.406\n",
       "BsmtFinSF2       -1.6430      5.115     -0.321      0.748     -11.679       8.393\n",
       "BsmtUnfSF         2.2319      2.794      0.799      0.425      -3.249       7.713\n",
       "TotalBsmtSF      10.3438      3.987      2.594      0.010       2.521      18.167\n",
       "1stFlrSF         17.0746      7.450      2.292      0.022       2.458      31.692\n",
       "2ndFlrSF         20.8706      6.798      3.070      0.002       7.532      34.209\n",
       "LowQualFinSF    -10.5087     18.277     -0.575      0.565     -46.370      25.352\n",
       "GrLivArea        27.4365      7.054      3.889      0.000      13.596      41.277\n",
       "BsmtFullBath   1.108e+04   3023.598      3.665      0.000    5147.982     1.7e+04\n",
       "BsmtHalfBath   5769.4732   4763.171      1.211      0.226   -3576.136    1.51e+04\n",
       "FullBath       4553.8989   3346.675      1.361      0.174   -2012.465    1.11e+04\n",
       "HalfBath         23.4132   3188.818      0.007      0.994   -6233.227    6280.053\n",
       "BedroomAbvGr  -1.102e+04   2043.861     -5.392      0.000    -1.5e+04   -7010.883\n",
       "KitchenAbvGr  -1.133e+04   6344.295     -1.786      0.074   -2.38e+04    1113.936\n",
       "TotRmsAbvGrd   5973.4093   1456.743      4.101      0.000    3115.197    8831.622\n",
       "Fireplaces     3552.6717   2098.438      1.693      0.091    -564.581    7669.925\n",
       "GarageCars     1.187e+04   3396.804      3.494      0.000    5202.974    1.85e+04\n",
       "GarageArea       -4.4580     11.471     -0.389      0.698     -26.965      18.049\n",
       "WoodDeckSF       27.1088      9.434      2.874      0.004       8.600      45.618\n",
       "OpenPorchSF     -20.6027     18.009     -1.144      0.253     -55.936      14.731\n",
       "EnclosedPorch     9.3737     19.711      0.476      0.634     -29.300      48.047\n",
       "3SsnPorch         2.6431     48.162      0.055      0.956     -91.853      97.139\n",
       "ScreenPorch      83.9343     20.994      3.998      0.000      42.743     125.126\n",
       "PoolArea        -70.5121     28.934     -2.437      0.015    -127.283     -13.741\n",
       "MiscVal          -2.9795      3.486     -0.855      0.393      -9.820       3.861\n",
       "MoSold         -198.8863    406.296     -0.490      0.625    -996.062     598.289\n",
       "YrSold         -830.3528    825.541     -1.006      0.315   -2450.111     789.406\n",
       "==============================================================================\n",
       "Omnibus:                      376.622   Durbin-Watson:                   1.947\n",
       "Prob(Omnibus):                  0.000   Jarque-Bera (JB):            61690.250\n",
       "Skew:                          -0.160   Prob(JB):                         0.00\n",
       "Kurtosis:                      38.617   Cond. No.                     1.31e+16\n",
       "==============================================================================\n",
       "\n",
       "Warnings:\n",
       "[1] Standard Errors assume that the covariance matrix of the errors is correctly specified.\n",
       "[2] The smallest eigenvalue is 1.51e-21. This might indicate that there are\n",
       "strong multicollinearity problems or that the design matrix is singular.\n",
       "\"\"\""
      ]
     },
     "execution_count": 21,
     "metadata": {},
     "output_type": "execute_result"
    }
   ],
   "source": [
    "X_train = sm.add_constant(X_train)\n",
    "\n",
    "tum_degiskenli_model = sm.OLS(y_train, X_train).fit()\n",
    "\n",
    "tum_degiskenli_model.summary()"
   ]
  },
  {
   "cell_type": "code",
   "execution_count": 22,
   "metadata": {},
   "outputs": [
    {
     "data": {
      "image/png": "[encoded data removed]",
      "text/plain": [
       "<Figure size 600x400 with 1 Axes>"
      ]
     },
     "metadata": {
      "needs_background": "light"
     },
     "output_type": "display_data"
    }
   ],
   "source": [
    "X_test = sm.add_constant(X_test)\n",
    "\n",
    "y_preds = tum_degiskenli_model.predict(X_test)\n",
    "\n",
    "plt.figure(dpi = 100)\n",
    "\n",
    "plt.scatter(y_test, y_preds)\n",
    "plt.plot(y_test, y_test, color=\"red\")\n",
    "plt.xlabel(\"Gerçek Değerler\")\n",
    "plt.ylabel(\"Tahmin edilen Değerler\")\n",
    "plt.title(\"SalePrice: Gerçek ve tahmin edilen değerler\")\n",
    "plt.show()\n"
   ]
  },
  {
   "cell_type": "markdown",
   "metadata": {},
   "source": [
    "Modelimizdeki tahminlerin 300000 fiyatindan sonra tahmin cizgisinden uzaklasarak cok da iyi tahmin edilmedigini goruyoruz. Bunun nedeni kullandigimiz degiskenlerin yetersizliginden kaynaklaniyor olabilir. "
   ]
  },
  {
   "cell_type": "code",
   "execution_count": 23,
   "metadata": {
    "scrolled": true
   },
   "outputs": [
    {
     "name": "stdout",
     "output_type": "stream",
     "text": [
      "Ortalama Mutlak Hata (MAE)        : 21158.700952408817\n",
      "Ortalama Kare Hata (MSE)          : 854217461.5092628\n",
      "Kök Ortalama Kare Hata (RMSE)     : 29226.998845404276\n",
      "Ortalama Mutlak Yüzde Hata (MAPE) : 12.812839563771394\n"
     ]
    }
   ],
   "source": [
    "print(\"Ortalama Mutlak Hata (MAE)        : {}\".format(mean_absolute_error(y_test, y_preds)))\n",
    "print(\"Ortalama Kare Hata (MSE)          : {}\".format(mse(y_test, y_preds)))\n",
    "print(\"Kök Ortalama Kare Hata (RMSE)     : {}\".format(rmse(y_test, y_preds)))\n",
    "print(\"Ortalama Mutlak Yüzde Hata (MAPE) : {}\".format(np.mean(np.abs((y_test - y_preds) / y_test)) * 100))"
   ]
  },
  {
   "cell_type": "markdown",
   "metadata": {},
   "source": [
    "Bu adimdan sonra X'e atadigimiz tum degiskenler icinden p degeri dusuk olanlar icin yeniden model olusturma islemine geciyoruz."
   ]
  },
  {
   "cell_type": "code",
   "execution_count": 24,
   "metadata": {},
   "outputs": [],
   "source": [
    "# bu sekilde liste ve seri olarak kaldi elimizde dataframe gibi tek sutun \n",
    "\n",
    "p_degeri = tum_degiskenli_model.pvalues \n",
    "anlamli_degerler = list(p_degeri[p_degeri<=0.05].index)"
   ]
  },
  {
   "cell_type": "code",
   "execution_count": 25,
   "metadata": {},
   "outputs": [
    {
     "data": {
      "text/plain": [
       "['MSSubClass',\n",
       " 'LotArea',\n",
       " 'OverallQual',\n",
       " 'OverallCond',\n",
       " 'YearBuilt',\n",
       " 'BsmtFinSF1',\n",
       " 'TotalBsmtSF',\n",
       " '1stFlrSF',\n",
       " '2ndFlrSF',\n",
       " 'GrLivArea',\n",
       " 'BsmtFullBath',\n",
       " 'BedroomAbvGr',\n",
       " 'TotRmsAbvGrd',\n",
       " 'GarageCars',\n",
       " 'WoodDeckSF',\n",
       " 'ScreenPorch',\n",
       " 'PoolArea']"
      ]
     },
     "execution_count": 25,
     "metadata": {},
     "output_type": "execute_result"
    }
   ],
   "source": [
    "anlamli_degerler"
   ]
  },
  {
   "cell_type": "code",
   "execution_count": 26,
   "metadata": {},
   "outputs": [],
   "source": [
    "y_anlamli = ev_fiyatlari_num_na['SalePrice'] \n",
    "X_anlamli = ev_fiyatlari_num_na[anlamli_degerler] "
   ]
  },
  {
   "cell_type": "code",
   "execution_count": 27,
   "metadata": {},
   "outputs": [
    {
     "name": "stdout",
     "output_type": "stream",
     "text": [
      "Eğitim kümesindeki gözlem sayısı : 1167\n",
      "Test kümesindeki gözlem sayısı   : 292\n"
     ]
    }
   ],
   "source": [
    "X_train, X_test, y_train, y_test = train_test_split(X_anlamli, y_anlamli, test_size = 0.2, random_state = 500)\n",
    "\n",
    "print(\"Eğitim kümesindeki gözlem sayısı : {}\".format(X_train.shape[0]))\n",
    "print(\"Test kümesindeki gözlem sayısı   : {}\".format(X_test.shape[0]))"
   ]
  },
  {
   "cell_type": "code",
   "execution_count": 28,
   "metadata": {},
   "outputs": [
    {
     "data": {
      "text/html": [
       "<table class=\"simpletable\">\n",
       "<caption>OLS Regression Results</caption>\n",
       "<tr>\n",
       "  <th>Dep. Variable:</th>        <td>SalePrice</td>    <th>  R-squared:         </th> <td>   0.806</td> \n",
       "</tr>\n",
       "<tr>\n",
       "  <th>Model:</th>                   <td>OLS</td>       <th>  Adj. R-squared:    </th> <td>   0.804</td> \n",
       "</tr>\n",
       "<tr>\n",
       "  <th>Method:</th>             <td>Least Squares</td>  <th>  F-statistic:       </th> <td>   352.4</td> \n",
       "</tr>\n",
       "<tr>\n",
       "  <th>Date:</th>             <td>Mon, 22 Apr 2019</td> <th>  Prob (F-statistic):</th>  <td>  0.00</td>  \n",
       "</tr>\n",
       "<tr>\n",
       "  <th>Time:</th>                 <td>22:27:46</td>     <th>  Log-Likelihood:    </th> <td> -17335.</td> \n",
       "</tr>\n",
       "<tr>\n",
       "  <th>No. Observations:</th>      <td>  1459</td>      <th>  AIC:               </th> <td>3.471e+04</td>\n",
       "</tr>\n",
       "<tr>\n",
       "  <th>Df Residuals:</th>          <td>  1441</td>      <th>  BIC:               </th> <td>3.480e+04</td>\n",
       "</tr>\n",
       "<tr>\n",
       "  <th>Df Model:</th>              <td>    17</td>      <th>                     </th>     <td> </td>    \n",
       "</tr>\n",
       "<tr>\n",
       "  <th>Covariance Type:</th>      <td>nonrobust</td>    <th>                     </th>     <td> </td>    \n",
       "</tr>\n",
       "</table>\n",
       "<table class=\"simpletable\">\n",
       "<tr>\n",
       "        <td></td>          <th>coef</th>     <th>std err</th>      <th>t</th>      <th>P>|t|</th>  <th>[0.025</th>    <th>0.975]</th>  \n",
       "</tr>\n",
       "<tr>\n",
       "  <th>const</th>        <td>-8.963e+05</td> <td> 8.97e+04</td> <td>   -9.990</td> <td> 0.000</td> <td>-1.07e+06</td> <td> -7.2e+05</td>\n",
       "</tr>\n",
       "<tr>\n",
       "  <th>MSSubClass</th>   <td> -182.0266</td> <td>   24.332</td> <td>   -7.481</td> <td> 0.000</td> <td> -229.757</td> <td> -134.296</td>\n",
       "</tr>\n",
       "<tr>\n",
       "  <th>LotArea</th>      <td>    0.4279</td> <td>    0.100</td> <td>    4.267</td> <td> 0.000</td> <td>    0.231</td> <td>    0.625</td>\n",
       "</tr>\n",
       "<tr>\n",
       "  <th>OverallQual</th>  <td> 1.946e+04</td> <td> 1131.791</td> <td>   17.194</td> <td> 0.000</td> <td> 1.72e+04</td> <td> 2.17e+04</td>\n",
       "</tr>\n",
       "<tr>\n",
       "  <th>OverallCond</th>  <td> 5357.1062</td> <td>  931.515</td> <td>    5.751</td> <td> 0.000</td> <td> 3529.836</td> <td> 7184.377</td>\n",
       "</tr>\n",
       "<tr>\n",
       "  <th>YearBuilt</th>    <td>  412.2812</td> <td>   45.850</td> <td>    8.992</td> <td> 0.000</td> <td>  322.342</td> <td>  502.221</td>\n",
       "</tr>\n",
       "<tr>\n",
       "  <th>BsmtFinSF1</th>   <td>   11.5740</td> <td>    3.043</td> <td>    3.804</td> <td> 0.000</td> <td>    5.606</td> <td>   17.542</td>\n",
       "</tr>\n",
       "<tr>\n",
       "  <th>TotalBsmtSF</th>  <td>    9.9871</td> <td>    4.165</td> <td>    2.398</td> <td> 0.017</td> <td>    1.817</td> <td>   18.157</td>\n",
       "</tr>\n",
       "<tr>\n",
       "  <th>1stFlrSF</th>     <td>   21.1125</td> <td>   20.070</td> <td>    1.052</td> <td> 0.293</td> <td>  -18.257</td> <td>   60.482</td>\n",
       "</tr>\n",
       "<tr>\n",
       "  <th>2ndFlrSF</th>     <td>   21.1851</td> <td>   19.770</td> <td>    1.072</td> <td> 0.284</td> <td>  -17.596</td> <td>   59.966</td>\n",
       "</tr>\n",
       "<tr>\n",
       "  <th>GrLivArea</th>    <td>   33.3664</td> <td>   19.734</td> <td>    1.691</td> <td> 0.091</td> <td>   -5.345</td> <td>   72.078</td>\n",
       "</tr>\n",
       "<tr>\n",
       "  <th>BsmtFullBath</th> <td> 7620.7043</td> <td> 2385.445</td> <td>    3.195</td> <td> 0.001</td> <td> 2941.387</td> <td> 1.23e+04</td>\n",
       "</tr>\n",
       "<tr>\n",
       "  <th>BedroomAbvGr</th> <td>-1.086e+04</td> <td> 1658.845</td> <td>   -6.548</td> <td> 0.000</td> <td>-1.41e+04</td> <td>-7608.200</td>\n",
       "</tr>\n",
       "<tr>\n",
       "  <th>TotRmsAbvGrd</th> <td> 4363.5992</td> <td> 1194.090</td> <td>    3.654</td> <td> 0.000</td> <td> 2021.258</td> <td> 6705.940</td>\n",
       "</tr>\n",
       "<tr>\n",
       "  <th>GarageCars</th>   <td> 1.113e+04</td> <td> 1709.152</td> <td>    6.512</td> <td> 0.000</td> <td> 7777.708</td> <td> 1.45e+04</td>\n",
       "</tr>\n",
       "<tr>\n",
       "  <th>WoodDeckSF</th>   <td>   28.3193</td> <td>    7.939</td> <td>    3.567</td> <td> 0.000</td> <td>   12.745</td> <td>   43.893</td>\n",
       "</tr>\n",
       "<tr>\n",
       "  <th>ScreenPorch</th>  <td>   58.4351</td> <td>   16.861</td> <td>    3.466</td> <td> 0.001</td> <td>   25.360</td> <td>   91.511</td>\n",
       "</tr>\n",
       "<tr>\n",
       "  <th>PoolArea</th>     <td>  -41.6119</td> <td>   23.650</td> <td>   -1.759</td> <td> 0.079</td> <td>  -88.005</td> <td>    4.781</td>\n",
       "</tr>\n",
       "</table>\n",
       "<table class=\"simpletable\">\n",
       "<tr>\n",
       "  <th>Omnibus:</th>       <td>605.149</td> <th>  Durbin-Watson:     </th>  <td>   1.966</td> \n",
       "</tr>\n",
       "<tr>\n",
       "  <th>Prob(Omnibus):</th> <td> 0.000</td>  <th>  Jarque-Bera (JB):  </th> <td>106080.417</td>\n",
       "</tr>\n",
       "<tr>\n",
       "  <th>Skew:</th>          <td>-0.799</td>  <th>  Prob(JB):          </th>  <td>    0.00</td> \n",
       "</tr>\n",
       "<tr>\n",
       "  <th>Kurtosis:</th>      <td>44.742</td>  <th>  Cond. No.          </th>  <td>1.43e+06</td> \n",
       "</tr>\n",
       "</table><br/><br/>Warnings:<br/>[1] Standard Errors assume that the covariance matrix of the errors is correctly specified.<br/>[2] The condition number is large, 1.43e+06. This might indicate that there are<br/>strong multicollinearity or other numerical problems."
      ],
      "text/plain": [
       "<class 'statsmodels.iolib.summary.Summary'>\n",
       "\"\"\"\n",
       "                            OLS Regression Results                            \n",
       "==============================================================================\n",
       "Dep. Variable:              SalePrice   R-squared:                       0.806\n",
       "Model:                            OLS   Adj. R-squared:                  0.804\n",
       "Method:                 Least Squares   F-statistic:                     352.4\n",
       "Date:                Mon, 22 Apr 2019   Prob (F-statistic):               0.00\n",
       "Time:                        22:27:46   Log-Likelihood:                -17335.\n",
       "No. Observations:                1459   AIC:                         3.471e+04\n",
       "Df Residuals:                    1441   BIC:                         3.480e+04\n",
       "Df Model:                          17                                         \n",
       "Covariance Type:            nonrobust                                         \n",
       "================================================================================\n",
       "                   coef    std err          t      P>|t|      [0.025      0.975]\n",
       "--------------------------------------------------------------------------------\n",
       "const        -8.963e+05   8.97e+04     -9.990      0.000   -1.07e+06    -7.2e+05\n",
       "MSSubClass    -182.0266     24.332     -7.481      0.000    -229.757    -134.296\n",
       "LotArea          0.4279      0.100      4.267      0.000       0.231       0.625\n",
       "OverallQual   1.946e+04   1131.791     17.194      0.000    1.72e+04    2.17e+04\n",
       "OverallCond   5357.1062    931.515      5.751      0.000    3529.836    7184.377\n",
       "YearBuilt      412.2812     45.850      8.992      0.000     322.342     502.221\n",
       "BsmtFinSF1      11.5740      3.043      3.804      0.000       5.606      17.542\n",
       "TotalBsmtSF      9.9871      4.165      2.398      0.017       1.817      18.157\n",
       "1stFlrSF        21.1125     20.070      1.052      0.293     -18.257      60.482\n",
       "2ndFlrSF        21.1851     19.770      1.072      0.284     -17.596      59.966\n",
       "GrLivArea       33.3664     19.734      1.691      0.091      -5.345      72.078\n",
       "BsmtFullBath  7620.7043   2385.445      3.195      0.001    2941.387    1.23e+04\n",
       "BedroomAbvGr -1.086e+04   1658.845     -6.548      0.000   -1.41e+04   -7608.200\n",
       "TotRmsAbvGrd  4363.5992   1194.090      3.654      0.000    2021.258    6705.940\n",
       "GarageCars    1.113e+04   1709.152      6.512      0.000    7777.708    1.45e+04\n",
       "WoodDeckSF      28.3193      7.939      3.567      0.000      12.745      43.893\n",
       "ScreenPorch     58.4351     16.861      3.466      0.001      25.360      91.511\n",
       "PoolArea       -41.6119     23.650     -1.759      0.079     -88.005       4.781\n",
       "==============================================================================\n",
       "Omnibus:                      605.149   Durbin-Watson:                   1.966\n",
       "Prob(Omnibus):                  0.000   Jarque-Bera (JB):           106080.417\n",
       "Skew:                          -0.799   Prob(JB):                         0.00\n",
       "Kurtosis:                      44.742   Cond. No.                     1.43e+06\n",
       "==============================================================================\n",
       "\n",
       "Warnings:\n",
       "[1] Standard Errors assume that the covariance matrix of the errors is correctly specified.\n",
       "[2] The condition number is large, 1.43e+06. This might indicate that there are\n",
       "strong multicollinearity or other numerical problems.\n",
       "\"\"\""
      ]
     },
     "execution_count": 28,
     "metadata": {},
     "output_type": "execute_result"
    }
   ],
   "source": [
    "X_anlamli = sm.add_constant(X_anlamli)\n",
    "anlamli_17degiskenli_model = sm.OLS(y_anlamli, X_anlamli).fit()\n",
    "anlamli_17degiskenli_model.summary()"
   ]
  },
  {
   "cell_type": "code",
   "execution_count": 29,
   "metadata": {},
   "outputs": [
    {
     "data": {
      "image/png": "[encoded data removed]",
      "text/plain": [
       "<Figure size 600x400 with 1 Axes>"
      ]
     },
     "metadata": {
      "needs_background": "light"
     },
     "output_type": "display_data"
    }
   ],
   "source": [
    "X_test = sm.add_constant(X_test)\n",
    "\n",
    "y_preds = anlamli_17degiskenli_model.predict(X_test)\n",
    "\n",
    "plt.figure(dpi = 100)\n",
    "\n",
    "plt.scatter(y_test, y_preds)\n",
    "plt.plot(y_test, y_test, color=\"red\")\n",
    "plt.xlabel(\"Gerçek Değerler\")\n",
    "plt.ylabel(\"Tahmin edilen Değerler\")\n",
    "plt.title(\"SalePrice: Gerçek ve tahmin edilen değerler\")\n",
    "plt.show()"
   ]
  },
  {
   "cell_type": "code",
   "execution_count": 30,
   "metadata": {},
   "outputs": [
    {
     "name": "stdout",
     "output_type": "stream",
     "text": [
      "Ortalama Mutlak Hata (MAE)        : 20331.79313141801\n",
      "Ortalama Kare Hata (MSE)          : 778577755.0699136\n",
      "Kök Ortalama Kare Hata (RMSE)     : 27903.006201302283\n",
      "Ortalama Mutlak Yüzde Hata (MAPE) : 12.571389418789213\n"
     ]
    }
   ],
   "source": [
    "print(\"Ortalama Mutlak Hata (MAE)        : {}\".format(mean_absolute_error(y_test, y_preds)))\n",
    "print(\"Ortalama Kare Hata (MSE)          : {}\".format(mse(y_test, y_preds)))\n",
    "print(\"Kök Ortalama Kare Hata (RMSE)     : {}\".format(rmse(y_test, y_preds)))\n",
    "print(\"Ortalama Mutlak Yüzde Hata (MAPE) : {}\".format(np.mean(np.abs((y_test - y_preds) / y_test)) * 100))"
   ]
  },
  {
   "cell_type": "markdown",
   "metadata": {},
   "source": [
    "Modelin tahmininde buyuk bir artis olmasa da Rkare degeri %79.9 dan %80.6 ya cikmistir."
   ]
  },
  {
   "cell_type": "code",
   "execution_count": 31,
   "metadata": {},
   "outputs": [],
   "source": [
    "X_arttirilmis_anlamli = ev_fiyatlari_num_na[anlamli_degerler[:10]]"
   ]
  },
  {
   "cell_type": "code",
   "execution_count": 32,
   "metadata": {},
   "outputs": [
    {
     "name": "stdout",
     "output_type": "stream",
     "text": [
      "Eğitim kümesindeki gözlem sayısı : 1167\n",
      "Test kümesindeki gözlem sayısı   : 292\n"
     ]
    }
   ],
   "source": [
    "X_train, X_test, y_train, y_test = train_test_split(X_arttirilmis_anlamli, y_anlamli, test_size = 0.2, random_state = 500)\n",
    "\n",
    "print(\"Eğitim kümesindeki gözlem sayısı : {}\".format(X_train.shape[0]))\n",
    "print(\"Test kümesindeki gözlem sayısı   : {}\".format(X_test.shape[0]))"
   ]
  },
  {
   "cell_type": "code",
   "execution_count": 33,
   "metadata": {
    "scrolled": false
   },
   "outputs": [
    {
     "data": {
      "text/html": [
       "<table class=\"simpletable\">\n",
       "<caption>OLS Regression Results</caption>\n",
       "<tr>\n",
       "  <th>Dep. Variable:</th>        <td>SalePrice</td>    <th>  R-squared:         </th> <td>   0.962</td> \n",
       "</tr>\n",
       "<tr>\n",
       "  <th>Model:</th>                   <td>OLS</td>       <th>  Adj. R-squared:    </th> <td>   0.962</td> \n",
       "</tr>\n",
       "<tr>\n",
       "  <th>Method:</th>             <td>Least Squares</td>  <th>  F-statistic:       </th> <td>   3660.</td> \n",
       "</tr>\n",
       "<tr>\n",
       "  <th>Date:</th>             <td>Mon, 22 Apr 2019</td> <th>  Prob (F-statistic):</th>  <td>  0.00</td>  \n",
       "</tr>\n",
       "<tr>\n",
       "  <th>Time:</th>                 <td>22:27:46</td>     <th>  Log-Likelihood:    </th> <td> -17477.</td> \n",
       "</tr>\n",
       "<tr>\n",
       "  <th>No. Observations:</th>      <td>  1459</td>      <th>  AIC:               </th> <td>3.497e+04</td>\n",
       "</tr>\n",
       "<tr>\n",
       "  <th>Df Residuals:</th>          <td>  1449</td>      <th>  BIC:               </th> <td>3.503e+04</td>\n",
       "</tr>\n",
       "<tr>\n",
       "  <th>Df Model:</th>              <td>    10</td>      <th>                     </th>     <td> </td>    \n",
       "</tr>\n",
       "<tr>\n",
       "  <th>Covariance Type:</th>      <td>nonrobust</td>    <th>                     </th>     <td> </td>    \n",
       "</tr>\n",
       "</table>\n",
       "<table class=\"simpletable\">\n",
       "<tr>\n",
       "       <td></td>          <th>coef</th>     <th>std err</th>      <th>t</th>      <th>P>|t|</th>  <th>[0.025</th>    <th>0.975]</th>  \n",
       "</tr>\n",
       "<tr>\n",
       "  <th>MSSubClass</th>  <td> -164.6031</td> <td>   26.302</td> <td>   -6.258</td> <td> 0.000</td> <td> -216.197</td> <td> -113.010</td>\n",
       "</tr>\n",
       "<tr>\n",
       "  <th>LotArea</th>     <td>    0.4573</td> <td>    0.109</td> <td>    4.189</td> <td> 0.000</td> <td>    0.243</td> <td>    0.671</td>\n",
       "</tr>\n",
       "<tr>\n",
       "  <th>OverallQual</th> <td>  2.98e+04</td> <td> 1028.915</td> <td>   28.964</td> <td> 0.000</td> <td> 2.78e+04</td> <td> 3.18e+04</td>\n",
       "</tr>\n",
       "<tr>\n",
       "  <th>OverallCond</th> <td> -184.7116</td> <td>  905.337</td> <td>   -0.204</td> <td> 0.838</td> <td>-1960.623</td> <td> 1591.200</td>\n",
       "</tr>\n",
       "<tr>\n",
       "  <th>YearBuilt</th>   <td>  -49.5460</td> <td>    3.969</td> <td>  -12.483</td> <td> 0.000</td> <td>  -57.332</td> <td>  -41.760</td>\n",
       "</tr>\n",
       "<tr>\n",
       "  <th>BsmtFinSF1</th>  <td>   23.0917</td> <td>    2.644</td> <td>    8.734</td> <td> 0.000</td> <td>   17.905</td> <td>   28.278</td>\n",
       "</tr>\n",
       "<tr>\n",
       "  <th>TotalBsmtSF</th> <td>   11.7468</td> <td>    4.547</td> <td>    2.584</td> <td> 0.010</td> <td>    2.828</td> <td>   20.666</td>\n",
       "</tr>\n",
       "<tr>\n",
       "  <th>1stFlrSF</th>    <td>   74.1776</td> <td>   21.706</td> <td>    3.417</td> <td> 0.001</td> <td>   31.600</td> <td>  116.756</td>\n",
       "</tr>\n",
       "<tr>\n",
       "  <th>2ndFlrSF</th>    <td>   69.7444</td> <td>   21.344</td> <td>    3.268</td> <td> 0.001</td> <td>   27.876</td> <td>  111.613</td>\n",
       "</tr>\n",
       "<tr>\n",
       "  <th>GrLivArea</th>   <td>  -20.1963</td> <td>   20.977</td> <td>   -0.963</td> <td> 0.336</td> <td>  -61.345</td> <td>   20.952</td>\n",
       "</tr>\n",
       "</table>\n",
       "<table class=\"simpletable\">\n",
       "<tr>\n",
       "  <th>Omnibus:</th>       <td>779.504</td> <th>  Durbin-Watson:     </th>  <td>   1.986</td> \n",
       "</tr>\n",
       "<tr>\n",
       "  <th>Prob(Omnibus):</th> <td> 0.000</td>  <th>  Jarque-Bera (JB):  </th> <td>100805.877</td>\n",
       "</tr>\n",
       "<tr>\n",
       "  <th>Skew:</th>          <td>-1.475</td>  <th>  Prob(JB):          </th>  <td>    0.00</td> \n",
       "</tr>\n",
       "<tr>\n",
       "  <th>Kurtosis:</th>      <td>43.614</td>  <th>  Cond. No.          </th>  <td>1.49e+04</td> \n",
       "</tr>\n",
       "</table><br/><br/>Warnings:<br/>[1] Standard Errors assume that the covariance matrix of the errors is correctly specified.<br/>[2] The condition number is large, 1.49e+04. This might indicate that there are<br/>strong multicollinearity or other numerical problems."
      ],
      "text/plain": [
       "<class 'statsmodels.iolib.summary.Summary'>\n",
       "\"\"\"\n",
       "                            OLS Regression Results                            \n",
       "==============================================================================\n",
       "Dep. Variable:              SalePrice   R-squared:                       0.962\n",
       "Model:                            OLS   Adj. R-squared:                  0.962\n",
       "Method:                 Least Squares   F-statistic:                     3660.\n",
       "Date:                Mon, 22 Apr 2019   Prob (F-statistic):               0.00\n",
       "Time:                        22:27:46   Log-Likelihood:                -17477.\n",
       "No. Observations:                1459   AIC:                         3.497e+04\n",
       "Df Residuals:                    1449   BIC:                         3.503e+04\n",
       "Df Model:                          10                                         \n",
       "Covariance Type:            nonrobust                                         \n",
       "===============================================================================\n",
       "                  coef    std err          t      P>|t|      [0.025      0.975]\n",
       "-------------------------------------------------------------------------------\n",
       "MSSubClass   -164.6031     26.302     -6.258      0.000    -216.197    -113.010\n",
       "LotArea         0.4573      0.109      4.189      0.000       0.243       0.671\n",
       "OverallQual   2.98e+04   1028.915     28.964      0.000    2.78e+04    3.18e+04\n",
       "OverallCond  -184.7116    905.337     -0.204      0.838   -1960.623    1591.200\n",
       "YearBuilt     -49.5460      3.969    -12.483      0.000     -57.332     -41.760\n",
       "BsmtFinSF1     23.0917      2.644      8.734      0.000      17.905      28.278\n",
       "TotalBsmtSF    11.7468      4.547      2.584      0.010       2.828      20.666\n",
       "1stFlrSF       74.1776     21.706      3.417      0.001      31.600     116.756\n",
       "2ndFlrSF       69.7444     21.344      3.268      0.001      27.876     111.613\n",
       "GrLivArea     -20.1963     20.977     -0.963      0.336     -61.345      20.952\n",
       "==============================================================================\n",
       "Omnibus:                      779.504   Durbin-Watson:                   1.986\n",
       "Prob(Omnibus):                  0.000   Jarque-Bera (JB):           100805.877\n",
       "Skew:                          -1.475   Prob(JB):                         0.00\n",
       "Kurtosis:                      43.614   Cond. No.                     1.49e+04\n",
       "==============================================================================\n",
       "\n",
       "Warnings:\n",
       "[1] Standard Errors assume that the covariance matrix of the errors is correctly specified.\n",
       "[2] The condition number is large, 1.49e+04. This might indicate that there are\n",
       "strong multicollinearity or other numerical problems.\n",
       "\"\"\""
      ]
     },
     "execution_count": 33,
     "metadata": {},
     "output_type": "execute_result"
    }
   ],
   "source": [
    "X_artilirmis_anlamli = sm.add_constant(X_arttirilmis_anlamli)\n",
    "\n",
    "anlamli_10degiskenli_model = sm.OLS(y_anlamli, X_arttirilmis_anlamli).fit()\n",
    "\n",
    "anlamli_10degiskenli_model.summary()"
   ]
  },
  {
   "cell_type": "code",
   "execution_count": 34,
   "metadata": {},
   "outputs": [
    {
     "name": "stdout",
     "output_type": "stream",
     "text": [
      "Ortalama Mutlak Hata (MAE)        : 20331.79313141801\n",
      "Ortalama Kare Hata (MSE)          : 778577755.0699136\n",
      "Kök Ortalama Kare Hata (RMSE)     : 27903.006201302283\n",
      "Ortalama Mutlak Yüzde Hata (MAPE) : 12.571389418789213\n"
     ]
    }
   ],
   "source": [
    "print(\"Ortalama Mutlak Hata (MAE)        : {}\".format(mean_absolute_error(y_test, y_preds)))\n",
    "print(\"Ortalama Kare Hata (MSE)          : {}\".format(mse(y_test, y_preds)))\n",
    "print(\"Kök Ortalama Kare Hata (RMSE)     : {}\".format(rmse(y_test, y_preds)))\n",
    "print(\"Ortalama Mutlak Yüzde Hata (MAPE) : {}\".format(np.mean(np.abs((y_test - y_preds) / y_test)) * 100))"
   ]
  },
  {
   "cell_type": "markdown",
   "metadata": {},
   "source": [
    "Tahmin degerlerde anlamli bir fark olmadi ve R kare degeri duserek %78.7'ye geriledi."
   ]
  },
  {
   "cell_type": "markdown",
   "metadata": {},
   "source": [
    "10 degiskenli modelimiz sonrasinda birde ilk 5 i alarak model deneyelim"
   ]
  },
  {
   "cell_type": "code",
   "execution_count": 35,
   "metadata": {},
   "outputs": [],
   "source": [
    "X_daha_arttirilmis_anlamli = ev_fiyatlari_num_na[anlamli_degerler[:5]]"
   ]
  },
  {
   "cell_type": "code",
   "execution_count": 36,
   "metadata": {},
   "outputs": [
    {
     "name": "stdout",
     "output_type": "stream",
     "text": [
      "Eğitim kümesindeki gözlem sayısı : 1167\n",
      "Test kümesindeki gözlem sayısı   : 292\n"
     ]
    }
   ],
   "source": [
    "X_train, X_test, y_train, y_test = train_test_split(X_daha_arttirilmis_anlamli, y_anlamli, test_size = 0.2, random_state = 500)\n",
    "\n",
    "print(\"Eğitim kümesindeki gözlem sayısı : {}\".format(X_train.shape[0]))\n",
    "print(\"Test kümesindeki gözlem sayısı   : {}\".format(X_test.shape[0]))"
   ]
  },
  {
   "cell_type": "code",
   "execution_count": 37,
   "metadata": {},
   "outputs": [
    {
     "data": {
      "text/html": [
       "<table class=\"simpletable\">\n",
       "<caption>OLS Regression Results</caption>\n",
       "<tr>\n",
       "  <th>Dep. Variable:</th>        <td>SalePrice</td>    <th>  R-squared:         </th> <td>   0.676</td> \n",
       "</tr>\n",
       "<tr>\n",
       "  <th>Model:</th>                   <td>OLS</td>       <th>  Adj. R-squared:    </th> <td>   0.675</td> \n",
       "</tr>\n",
       "<tr>\n",
       "  <th>Method:</th>             <td>Least Squares</td>  <th>  F-statistic:       </th> <td>   606.1</td> \n",
       "</tr>\n",
       "<tr>\n",
       "  <th>Date:</th>             <td>Mon, 22 Apr 2019</td> <th>  Prob (F-statistic):</th>  <td>  0.00</td>  \n",
       "</tr>\n",
       "<tr>\n",
       "  <th>Time:</th>                 <td>22:27:46</td>     <th>  Log-Likelihood:    </th> <td> -17710.</td> \n",
       "</tr>\n",
       "<tr>\n",
       "  <th>No. Observations:</th>      <td>  1459</td>      <th>  AIC:               </th> <td>3.543e+04</td>\n",
       "</tr>\n",
       "<tr>\n",
       "  <th>Df Residuals:</th>          <td>  1453</td>      <th>  BIC:               </th> <td>3.546e+04</td>\n",
       "</tr>\n",
       "<tr>\n",
       "  <th>Df Model:</th>              <td>     5</td>      <th>                     </th>     <td> </td>    \n",
       "</tr>\n",
       "<tr>\n",
       "  <th>Covariance Type:</th>      <td>nonrobust</td>    <th>                     </th>     <td> </td>    \n",
       "</tr>\n",
       "</table>\n",
       "<table class=\"simpletable\">\n",
       "<tr>\n",
       "       <td></td>          <th>coef</th>     <th>std err</th>      <th>t</th>      <th>P>|t|</th>  <th>[0.025</th>    <th>0.975]</th>  \n",
       "</tr>\n",
       "<tr>\n",
       "  <th>const</th>       <td>-7.731e+05</td> <td> 1.02e+05</td> <td>   -7.549</td> <td> 0.000</td> <td>-9.74e+05</td> <td>-5.72e+05</td>\n",
       "</tr>\n",
       "<tr>\n",
       "  <th>MSSubClass</th>  <td> -158.6258</td> <td>   28.414</td> <td>   -5.583</td> <td> 0.000</td> <td> -214.362</td> <td> -102.889</td>\n",
       "</tr>\n",
       "<tr>\n",
       "  <th>LotArea</th>     <td>    1.4012</td> <td>    0.121</td> <td>   11.577</td> <td> 0.000</td> <td>    1.164</td> <td>    1.639</td>\n",
       "</tr>\n",
       "<tr>\n",
       "  <th>OverallQual</th> <td> 4.034e+04</td> <td> 1070.387</td> <td>   37.685</td> <td> 0.000</td> <td> 3.82e+04</td> <td> 4.24e+04</td>\n",
       "</tr>\n",
       "<tr>\n",
       "  <th>OverallCond</th> <td> 2339.5139</td> <td> 1168.412</td> <td>    2.002</td> <td> 0.045</td> <td>   47.560</td> <td> 4631.468</td>\n",
       "</tr>\n",
       "<tr>\n",
       "  <th>YearBuilt</th>   <td>  349.6272</td> <td>   52.339</td> <td>    6.680</td> <td> 0.000</td> <td>  246.960</td> <td>  452.294</td>\n",
       "</tr>\n",
       "</table>\n",
       "<table class=\"simpletable\">\n",
       "<tr>\n",
       "  <th>Omnibus:</th>       <td>677.052</td> <th>  Durbin-Watson:     </th> <td>   1.979</td>\n",
       "</tr>\n",
       "<tr>\n",
       "  <th>Prob(Omnibus):</th> <td> 0.000</td>  <th>  Jarque-Bera (JB):  </th> <td>9889.642</td>\n",
       "</tr>\n",
       "<tr>\n",
       "  <th>Skew:</th>          <td> 1.776</td>  <th>  Prob(JB):          </th> <td>    0.00</td>\n",
       "</tr>\n",
       "<tr>\n",
       "  <th>Kurtosis:</th>      <td>15.250</td>  <th>  Cond. No.          </th> <td>1.26e+06</td>\n",
       "</tr>\n",
       "</table><br/><br/>Warnings:<br/>[1] Standard Errors assume that the covariance matrix of the errors is correctly specified.<br/>[2] The condition number is large, 1.26e+06. This might indicate that there are<br/>strong multicollinearity or other numerical problems."
      ],
      "text/plain": [
       "<class 'statsmodels.iolib.summary.Summary'>\n",
       "\"\"\"\n",
       "                            OLS Regression Results                            \n",
       "==============================================================================\n",
       "Dep. Variable:              SalePrice   R-squared:                       0.676\n",
       "Model:                            OLS   Adj. R-squared:                  0.675\n",
       "Method:                 Least Squares   F-statistic:                     606.1\n",
       "Date:                Mon, 22 Apr 2019   Prob (F-statistic):               0.00\n",
       "Time:                        22:27:46   Log-Likelihood:                -17710.\n",
       "No. Observations:                1459   AIC:                         3.543e+04\n",
       "Df Residuals:                    1453   BIC:                         3.546e+04\n",
       "Df Model:                           5                                         \n",
       "Covariance Type:            nonrobust                                         \n",
       "===============================================================================\n",
       "                  coef    std err          t      P>|t|      [0.025      0.975]\n",
       "-------------------------------------------------------------------------------\n",
       "const       -7.731e+05   1.02e+05     -7.549      0.000   -9.74e+05   -5.72e+05\n",
       "MSSubClass   -158.6258     28.414     -5.583      0.000    -214.362    -102.889\n",
       "LotArea         1.4012      0.121     11.577      0.000       1.164       1.639\n",
       "OverallQual  4.034e+04   1070.387     37.685      0.000    3.82e+04    4.24e+04\n",
       "OverallCond  2339.5139   1168.412      2.002      0.045      47.560    4631.468\n",
       "YearBuilt     349.6272     52.339      6.680      0.000     246.960     452.294\n",
       "==============================================================================\n",
       "Omnibus:                      677.052   Durbin-Watson:                   1.979\n",
       "Prob(Omnibus):                  0.000   Jarque-Bera (JB):             9889.642\n",
       "Skew:                           1.776   Prob(JB):                         0.00\n",
       "Kurtosis:                      15.250   Cond. No.                     1.26e+06\n",
       "==============================================================================\n",
       "\n",
       "Warnings:\n",
       "[1] Standard Errors assume that the covariance matrix of the errors is correctly specified.\n",
       "[2] The condition number is large, 1.26e+06. This might indicate that there are\n",
       "strong multicollinearity or other numerical problems.\n",
       "\"\"\""
      ]
     },
     "execution_count": 37,
     "metadata": {},
     "output_type": "execute_result"
    }
   ],
   "source": [
    "X_daha_arttirilmis_anlamli = sm.add_constant(X_daha_arttirilmis_anlamli)\n",
    "\n",
    "anlamli_5degiskenli_model = sm.OLS(y_anlamli, X_daha_arttirilmis_anlamli).fit()\n",
    "\n",
    "anlamli_5degiskenli_model.summary()"
   ]
  },
  {
   "cell_type": "code",
   "execution_count": 38,
   "metadata": {},
   "outputs": [
    {
     "data": {
      "image/png": "[encoded data removed]",
      "text/plain": [
       "<Figure size 600x400 with 1 Axes>"
      ]
     },
     "metadata": {
      "needs_background": "light"
     },
     "output_type": "display_data"
    }
   ],
   "source": [
    "X_test = sm.add_constant(X_test)\n",
    "\n",
    "y_preds = anlamli_5degiskenli_model.predict(X_test)\n",
    "\n",
    "plt.figure(dpi = 100)\n",
    "\n",
    "plt.scatter(y_test, y_preds)\n",
    "plt.plot(y_test, y_test, color=\"red\")\n",
    "plt.xlabel(\"Gerçek Değerler\")\n",
    "plt.ylabel(\"Tahmin edilen Değerler\")\n",
    "plt.title(\"SalePrice: Gerçek ve tahmin edilen değerler\")\n",
    "plt.show()"
   ]
  },
  {
   "cell_type": "code",
   "execution_count": 39,
   "metadata": {},
   "outputs": [
    {
     "name": "stdout",
     "output_type": "stream",
     "text": [
      "Ortalama Mutlak Hata (MAE)        : 29655.109991163336\n",
      "Ortalama Kare Hata (MSE)          : 1644312687.7761793\n",
      "Kök Ortalama Kare Hata (RMSE)     : 40550.12561973365\n",
      "Ortalama Mutlak Yüzde Hata (MAPE) : 18.25589746601895\n"
     ]
    }
   ],
   "source": [
    "print(\"Ortalama Mutlak Hata (MAE)        : {}\".format(mean_absolute_error(y_test, y_preds)))\n",
    "print(\"Ortalama Kare Hata (MSE)          : {}\".format(mse(y_test, y_preds)))\n",
    "print(\"Kök Ortalama Kare Hata (RMSE)     : {}\".format(rmse(y_test, y_preds)))\n",
    "print(\"Ortalama Mutlak Yüzde Hata (MAPE) : {}\".format(np.mean(np.abs((y_test - y_preds) / y_test)) * 100))"
   ]
  },
  {
   "cell_type": "code",
   "execution_count": 40,
   "metadata": {},
   "outputs": [
    {
     "name": "stdout",
     "output_type": "stream",
     "text": [
      "0.9619172251239492\n",
      "0.8061112665753178\n",
      "0.7994771829911087\n",
      "0.6759215901690057\n"
     ]
    }
   ],
   "source": [
    "print (anlamli_10degiskenli_model.rsquared)\n",
    "print (anlamli_17degiskenli_model.rsquared) \n",
    "print (tum_degiskenli_model.rsquared)\n",
    "print(anlamli_5degiskenli_model.rsquared)"
   ]
  },
  {
   "cell_type": "markdown",
   "metadata": {},
   "source": [
    "Modellerdeki degisken sayilarini azaltmamiz tahmin perfornmansimizi dusurdu. 10 degiskenli modelimiz en iyi performansi gosterdi."
   ]
  },
  {
   "cell_type": "code",
   "execution_count": 41,
   "metadata": {},
   "outputs": [],
   "source": [
    "X_arttirilmis_anlamli = ev_fiyatlari_num_na[anlamli_degerler[:10]]"
   ]
  },
  {
   "cell_type": "code",
   "execution_count": 42,
   "metadata": {},
   "outputs": [
    {
     "data": {
      "text/plain": [
       "LinearRegression(copy_X=True, fit_intercept=True, n_jobs=None,\n",
       "         normalize=False)"
      ]
     },
     "execution_count": 42,
     "metadata": {},
     "output_type": "execute_result"
    }
   ],
   "source": [
    "lrm = linear_model.LinearRegression()\n",
    "lrm.fit(X_arttirilmis_anlamli,y_anlamli)"
   ]
  },
  {
   "cell_type": "code",
   "execution_count": 43,
   "metadata": {},
   "outputs": [
    {
     "name": "stdout",
     "output_type": "stream",
     "text": [
      "Degiskenler: \n",
      " [-1.66245213e+02  5.09602895e-01  2.27604495e+04  5.32278412e+03\n",
      "  5.10927617e+02  1.90536092e+01  7.44554662e+00  3.53858732e+01\n",
      "  2.70460864e+01  2.86719591e+01]\n",
      "sabir Deger (Bias): \n",
      "  -1100973.6029661335\n"
     ]
    }
   ],
   "source": [
    "print ('Degiskenler: \\n', lrm.coef_)\n",
    "print ('sabir Deger (Bias): \\n ', lrm.intercept_)"
   ]
  },
  {
   "cell_type": "code",
   "execution_count": 44,
   "metadata": {},
   "outputs": [
    {
     "data": {
      "text/html": [
       "<table class=\"simpletable\">\n",
       "<caption>OLS Regression Results</caption>\n",
       "<tr>\n",
       "  <th>Dep. Variable:</th>        <td>SalePrice</td>    <th>  R-squared:         </th> <td>   0.962</td> \n",
       "</tr>\n",
       "<tr>\n",
       "  <th>Model:</th>                   <td>OLS</td>       <th>  Adj. R-squared:    </th> <td>   0.962</td> \n",
       "</tr>\n",
       "<tr>\n",
       "  <th>Method:</th>             <td>Least Squares</td>  <th>  F-statistic:       </th> <td>   3660.</td> \n",
       "</tr>\n",
       "<tr>\n",
       "  <th>Date:</th>             <td>Mon, 22 Apr 2019</td> <th>  Prob (F-statistic):</th>  <td>  0.00</td>  \n",
       "</tr>\n",
       "<tr>\n",
       "  <th>Time:</th>                 <td>22:27:46</td>     <th>  Log-Likelihood:    </th> <td> -17477.</td> \n",
       "</tr>\n",
       "<tr>\n",
       "  <th>No. Observations:</th>      <td>  1459</td>      <th>  AIC:               </th> <td>3.497e+04</td>\n",
       "</tr>\n",
       "<tr>\n",
       "  <th>Df Residuals:</th>          <td>  1449</td>      <th>  BIC:               </th> <td>3.503e+04</td>\n",
       "</tr>\n",
       "<tr>\n",
       "  <th>Df Model:</th>              <td>    10</td>      <th>                     </th>     <td> </td>    \n",
       "</tr>\n",
       "<tr>\n",
       "  <th>Covariance Type:</th>      <td>nonrobust</td>    <th>                     </th>     <td> </td>    \n",
       "</tr>\n",
       "</table>\n",
       "<table class=\"simpletable\">\n",
       "<tr>\n",
       "       <td></td>          <th>coef</th>     <th>std err</th>      <th>t</th>      <th>P>|t|</th>  <th>[0.025</th>    <th>0.975]</th>  \n",
       "</tr>\n",
       "<tr>\n",
       "  <th>MSSubClass</th>  <td> -164.6031</td> <td>   26.302</td> <td>   -6.258</td> <td> 0.000</td> <td> -216.197</td> <td> -113.010</td>\n",
       "</tr>\n",
       "<tr>\n",
       "  <th>LotArea</th>     <td>    0.4573</td> <td>    0.109</td> <td>    4.189</td> <td> 0.000</td> <td>    0.243</td> <td>    0.671</td>\n",
       "</tr>\n",
       "<tr>\n",
       "  <th>OverallQual</th> <td>  2.98e+04</td> <td> 1028.915</td> <td>   28.964</td> <td> 0.000</td> <td> 2.78e+04</td> <td> 3.18e+04</td>\n",
       "</tr>\n",
       "<tr>\n",
       "  <th>OverallCond</th> <td> -184.7116</td> <td>  905.337</td> <td>   -0.204</td> <td> 0.838</td> <td>-1960.623</td> <td> 1591.200</td>\n",
       "</tr>\n",
       "<tr>\n",
       "  <th>YearBuilt</th>   <td>  -49.5460</td> <td>    3.969</td> <td>  -12.483</td> <td> 0.000</td> <td>  -57.332</td> <td>  -41.760</td>\n",
       "</tr>\n",
       "<tr>\n",
       "  <th>BsmtFinSF1</th>  <td>   23.0917</td> <td>    2.644</td> <td>    8.734</td> <td> 0.000</td> <td>   17.905</td> <td>   28.278</td>\n",
       "</tr>\n",
       "<tr>\n",
       "  <th>TotalBsmtSF</th> <td>   11.7468</td> <td>    4.547</td> <td>    2.584</td> <td> 0.010</td> <td>    2.828</td> <td>   20.666</td>\n",
       "</tr>\n",
       "<tr>\n",
       "  <th>1stFlrSF</th>    <td>   74.1776</td> <td>   21.706</td> <td>    3.417</td> <td> 0.001</td> <td>   31.600</td> <td>  116.756</td>\n",
       "</tr>\n",
       "<tr>\n",
       "  <th>2ndFlrSF</th>    <td>   69.7444</td> <td>   21.344</td> <td>    3.268</td> <td> 0.001</td> <td>   27.876</td> <td>  111.613</td>\n",
       "</tr>\n",
       "<tr>\n",
       "  <th>GrLivArea</th>   <td>  -20.1963</td> <td>   20.977</td> <td>   -0.963</td> <td> 0.336</td> <td>  -61.345</td> <td>   20.952</td>\n",
       "</tr>\n",
       "</table>\n",
       "<table class=\"simpletable\">\n",
       "<tr>\n",
       "  <th>Omnibus:</th>       <td>779.504</td> <th>  Durbin-Watson:     </th>  <td>   1.986</td> \n",
       "</tr>\n",
       "<tr>\n",
       "  <th>Prob(Omnibus):</th> <td> 0.000</td>  <th>  Jarque-Bera (JB):  </th> <td>100805.877</td>\n",
       "</tr>\n",
       "<tr>\n",
       "  <th>Skew:</th>          <td>-1.475</td>  <th>  Prob(JB):          </th>  <td>    0.00</td> \n",
       "</tr>\n",
       "<tr>\n",
       "  <th>Kurtosis:</th>      <td>43.614</td>  <th>  Cond. No.          </th>  <td>1.49e+04</td> \n",
       "</tr>\n",
       "</table><br/><br/>Warnings:<br/>[1] Standard Errors assume that the covariance matrix of the errors is correctly specified.<br/>[2] The condition number is large, 1.49e+04. This might indicate that there are<br/>strong multicollinearity or other numerical problems."
      ],
      "text/plain": [
       "<class 'statsmodels.iolib.summary.Summary'>\n",
       "\"\"\"\n",
       "                            OLS Regression Results                            \n",
       "==============================================================================\n",
       "Dep. Variable:              SalePrice   R-squared:                       0.962\n",
       "Model:                            OLS   Adj. R-squared:                  0.962\n",
       "Method:                 Least Squares   F-statistic:                     3660.\n",
       "Date:                Mon, 22 Apr 2019   Prob (F-statistic):               0.00\n",
       "Time:                        22:27:46   Log-Likelihood:                -17477.\n",
       "No. Observations:                1459   AIC:                         3.497e+04\n",
       "Df Residuals:                    1449   BIC:                         3.503e+04\n",
       "Df Model:                          10                                         \n",
       "Covariance Type:            nonrobust                                         \n",
       "===============================================================================\n",
       "                  coef    std err          t      P>|t|      [0.025      0.975]\n",
       "-------------------------------------------------------------------------------\n",
       "MSSubClass   -164.6031     26.302     -6.258      0.000    -216.197    -113.010\n",
       "LotArea         0.4573      0.109      4.189      0.000       0.243       0.671\n",
       "OverallQual   2.98e+04   1028.915     28.964      0.000    2.78e+04    3.18e+04\n",
       "OverallCond  -184.7116    905.337     -0.204      0.838   -1960.623    1591.200\n",
       "YearBuilt     -49.5460      3.969    -12.483      0.000     -57.332     -41.760\n",
       "BsmtFinSF1     23.0917      2.644      8.734      0.000      17.905      28.278\n",
       "TotalBsmtSF    11.7468      4.547      2.584      0.010       2.828      20.666\n",
       "1stFlrSF       74.1776     21.706      3.417      0.001      31.600     116.756\n",
       "2ndFlrSF       69.7444     21.344      3.268      0.001      27.876     111.613\n",
       "GrLivArea     -20.1963     20.977     -0.963      0.336     -61.345      20.952\n",
       "==============================================================================\n",
       "Omnibus:                      779.504   Durbin-Watson:                   1.986\n",
       "Prob(Omnibus):                  0.000   Jarque-Bera (JB):           100805.877\n",
       "Skew:                          -1.475   Prob(JB):                         0.00\n",
       "Kurtosis:                      43.614   Cond. No.                     1.49e+04\n",
       "==============================================================================\n",
       "\n",
       "Warnings:\n",
       "[1] Standard Errors assume that the covariance matrix of the errors is correctly specified.\n",
       "[2] The condition number is large, 1.49e+04. This might indicate that there are\n",
       "strong multicollinearity or other numerical problems.\n",
       "\"\"\""
      ]
     },
     "execution_count": 44,
     "metadata": {},
     "output_type": "execute_result"
    }
   ],
   "source": [
    "Arttirilmis_anlamli_model= sm.add_constant(X_arttirilmis_anlamli)\n",
    "results = sm.OLS(y_anlamli, X_arttirilmis_anlamli).fit()\n",
    "results.summary()"
   ]
  }
 ],
 "metadata": {
  "kernelspec": {
   "display_name": "Python 3",
   "language": "python",
   "name": "python3"
  },
  "language_info": {
   "codemirror_mode": {
    "name": "ipython",
    "version": 3
   },
   "file_extension": ".py",
   "mimetype": "text/x-python",
   "name": "python",
   "nbconvert_exporter": "python",
   "pygments_lexer": "ipython3",
   "version": "3.7.1"
  }
 },
 "nbformat": 4,
 "nbformat_minor": 2
}
