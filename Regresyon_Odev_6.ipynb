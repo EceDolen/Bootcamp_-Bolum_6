{
 "cells": [
  {
   "cell_type": "code",
   "execution_count": 1,
   "metadata": {},
   "outputs": [],
   "source": [
    "import pandas as pd\n",
    "import numpy as np\n",
    "import statsmodels.api as sm\n",
    "from sklearn import linear_model \n",
    "import matplotlib.pyplot as plt\n",
    "\n",
    "from sklearn.linear_model import LinearRegression\n",
    "from sklearn.model_selection import train_test_split\n",
    "from sklearn.metrics import mean_absolute_error\n",
    "import statsmodels.api as sm\n",
    "from statsmodels.tools.eval_measures import mse, rmse\n",
    "\n",
    "%matplotlib inline\n",
    "pd.options.display.float_format = '{:.3f}'.format\n",
    "\n",
    "import warnings\n",
    "warnings.filterwarnings(action= \"ignore\")"
   ]
  },
  {
   "cell_type": "markdown",
   "metadata": {},
   "source": [
    "Bu alıştırmada, modelinizi kullanarak konut fiyatlarını tahmin edeceksiniz. Bu ödevi tamamlamak için, aşağıdaki görevlerin çözümlerini içeren bir Jupyter not defterini link olarak gönderin. Kafanıza takılan konuları mentörünüzle konuşabilir ya da ofis saatinde Slack üzerinden sorabilirsiniz.\n",
    "\n",
    "1.  Fiyatları verilerini Kaggle'dan indirin.\n",
    "2. Verilerinizi eğitim ve test kümelerine ayırın.\n",
    "3. Modelinizi eğitim kümesinden önceki derste olduğu gibi oluşturun. Modelinizin uygunluğunu değerlendirin.\n",
    "4. Test kümesindeki ev fiyatlarını tahmin edin ve bu derste belirttiğimiz metrikleri kullanarak modelinizin performansını değerlendirin.\n",
    "5. Modelinizin performansı tatmin edici mi? Açıklayın.\n",
    "6. Bazı değişkenleri ekleyerek veya çıkararak modelinizi tahmin performansı açısından geliştirmeye çalışın."
   ]
  },
  {
   "cell_type": "code",
   "execution_count": 2,
   "metadata": {},
   "outputs": [],
   "source": [
    "ev_fiyatlari = pd.read_csv('data/train.csv')"
   ]
  },
  {
   "cell_type": "code",
   "execution_count": 3,
   "metadata": {},
   "outputs": [],
   "source": [
    "Y = ev_fiyatlari['SalePrice']\n",
    "\n",
    "X = ev_fiyatlari[['YearBuilt', 'TotRmsAbvGrd', 'FullBath' , '1stFlrSF', 'TotalBsmtSF',\n",
    "            'GarageArea', 'GarageCars', 'GrLivArea', 'OverallQual', 'YearRemodAdd']]"
   ]
  },
  {
   "cell_type": "code",
   "execution_count": 4,
   "metadata": {},
   "outputs": [
    {
     "name": "stdout",
     "output_type": "stream",
     "text": [
      "Eğitim kümesindeki gözlem sayısı : 1168\n",
      "Test kümesindeki gözlem sayısı   : 292\n"
     ]
    }
   ],
   "source": [
    "X_train, X_test, y_train, y_test = train_test_split(X, Y, test_size = 0.2, random_state = 500)\n",
    "\n",
    "print(\"Eğitim kümesindeki gözlem sayısı : {}\".format(X_train.shape[0]))\n",
    "print(\"Test kümesindeki gözlem sayısı   : {}\".format(X_test.shape[0]))"
   ]
  },
  {
   "cell_type": "code",
   "execution_count": 5,
   "metadata": {},
   "outputs": [
    {
     "data": {
      "text/html": [
       "<table class=\"simpletable\">\n",
       "<caption>OLS Regression Results</caption>\n",
       "<tr>\n",
       "  <th>Dep. Variable:</th>        <td>SalePrice</td>    <th>  R-squared:         </th> <td>   0.767</td> \n",
       "</tr>\n",
       "<tr>\n",
       "  <th>Model:</th>                   <td>OLS</td>       <th>  Adj. R-squared:    </th> <td>   0.765</td> \n",
       "</tr>\n",
       "<tr>\n",
       "  <th>Method:</th>             <td>Least Squares</td>  <th>  F-statistic:       </th> <td>   381.1</td> \n",
       "</tr>\n",
       "<tr>\n",
       "  <th>Date:</th>             <td>Wed, 17 Apr 2019</td> <th>  Prob (F-statistic):</th>  <td>  0.00</td>  \n",
       "</tr>\n",
       "<tr>\n",
       "  <th>Time:</th>                 <td>08:06:25</td>     <th>  Log-Likelihood:    </th> <td> -14016.</td> \n",
       "</tr>\n",
       "<tr>\n",
       "  <th>No. Observations:</th>      <td>  1168</td>      <th>  AIC:               </th> <td>2.805e+04</td>\n",
       "</tr>\n",
       "<tr>\n",
       "  <th>Df Residuals:</th>          <td>  1157</td>      <th>  BIC:               </th> <td>2.811e+04</td>\n",
       "</tr>\n",
       "<tr>\n",
       "  <th>Df Model:</th>              <td>    10</td>      <th>                     </th>     <td> </td>    \n",
       "</tr>\n",
       "<tr>\n",
       "  <th>Covariance Type:</th>      <td>nonrobust</td>    <th>                     </th>     <td> </td>    \n",
       "</tr>\n",
       "</table>\n",
       "<table class=\"simpletable\">\n",
       "<tr>\n",
       "        <td></td>          <th>coef</th>     <th>std err</th>      <th>t</th>      <th>P>|t|</th>  <th>[0.025</th>    <th>0.975]</th>  \n",
       "</tr>\n",
       "<tr>\n",
       "  <th>const</th>        <td>-1.145e+06</td> <td>  1.5e+05</td> <td>   -7.639</td> <td> 0.000</td> <td>-1.44e+06</td> <td>-8.51e+05</td>\n",
       "</tr>\n",
       "<tr>\n",
       "  <th>YearBuilt</th>    <td>  253.8041</td> <td>   59.471</td> <td>    4.268</td> <td> 0.000</td> <td>  137.120</td> <td>  370.488</td>\n",
       "</tr>\n",
       "<tr>\n",
       "  <th>TotRmsAbvGrd</th> <td> -271.7309</td> <td> 1284.863</td> <td>   -0.211</td> <td> 0.833</td> <td>-2792.654</td> <td> 2249.192</td>\n",
       "</tr>\n",
       "<tr>\n",
       "  <th>FullBath</th>     <td>-5857.2516</td> <td> 3151.436</td> <td>   -1.859</td> <td> 0.063</td> <td> -1.2e+04</td> <td>  325.918</td>\n",
       "</tr>\n",
       "<tr>\n",
       "  <th>1stFlrSF</th>     <td>   12.5536</td> <td>    5.661</td> <td>    2.218</td> <td> 0.027</td> <td>    1.447</td> <td>   23.660</td>\n",
       "</tr>\n",
       "<tr>\n",
       "  <th>TotalBsmtSF</th>  <td>   17.8191</td> <td>    4.869</td> <td>    3.660</td> <td> 0.000</td> <td>    8.267</td> <td>   27.372</td>\n",
       "</tr>\n",
       "<tr>\n",
       "  <th>GarageArea</th>   <td>   11.3850</td> <td>   12.103</td> <td>    0.941</td> <td> 0.347</td> <td>  -12.362</td> <td>   35.132</td>\n",
       "</tr>\n",
       "<tr>\n",
       "  <th>GarageCars</th>   <td> 1.165e+04</td> <td> 3534.404</td> <td>    3.297</td> <td> 0.001</td> <td> 4717.013</td> <td> 1.86e+04</td>\n",
       "</tr>\n",
       "<tr>\n",
       "  <th>GrLivArea</th>    <td>   49.5656</td> <td>    4.962</td> <td>    9.990</td> <td> 0.000</td> <td>   39.831</td> <td>   59.300</td>\n",
       "</tr>\n",
       "<tr>\n",
       "  <th>OverallQual</th>  <td> 2.114e+04</td> <td> 1382.101</td> <td>   15.296</td> <td> 0.000</td> <td> 1.84e+04</td> <td> 2.39e+04</td>\n",
       "</tr>\n",
       "<tr>\n",
       "  <th>YearRemodAdd</th> <td>  289.1070</td> <td>   74.989</td> <td>    3.855</td> <td> 0.000</td> <td>  141.977</td> <td>  436.237</td>\n",
       "</tr>\n",
       "</table>\n",
       "<table class=\"simpletable\">\n",
       "<tr>\n",
       "  <th>Omnibus:</th>       <td>365.424</td> <th>  Durbin-Watson:     </th> <td>   1.997</td> \n",
       "</tr>\n",
       "<tr>\n",
       "  <th>Prob(Omnibus):</th> <td> 0.000</td>  <th>  Jarque-Bera (JB):  </th> <td>40253.872</td>\n",
       "</tr>\n",
       "<tr>\n",
       "  <th>Skew:</th>          <td>-0.319</td>  <th>  Prob(JB):          </th> <td>    0.00</td> \n",
       "</tr>\n",
       "<tr>\n",
       "  <th>Kurtosis:</th>      <td>31.753</td>  <th>  Cond. No.          </th> <td>4.68e+05</td> \n",
       "</tr>\n",
       "</table><br/><br/>Warnings:<br/>[1] Standard Errors assume that the covariance matrix of the errors is correctly specified.<br/>[2] The condition number is large, 4.68e+05. This might indicate that there are<br/>strong multicollinearity or other numerical problems."
      ],
      "text/plain": [
       "<class 'statsmodels.iolib.summary.Summary'>\n",
       "\"\"\"\n",
       "                            OLS Regression Results                            \n",
       "==============================================================================\n",
       "Dep. Variable:              SalePrice   R-squared:                       0.767\n",
       "Model:                            OLS   Adj. R-squared:                  0.765\n",
       "Method:                 Least Squares   F-statistic:                     381.1\n",
       "Date:                Wed, 17 Apr 2019   Prob (F-statistic):               0.00\n",
       "Time:                        08:06:25   Log-Likelihood:                -14016.\n",
       "No. Observations:                1168   AIC:                         2.805e+04\n",
       "Df Residuals:                    1157   BIC:                         2.811e+04\n",
       "Df Model:                          10                                         \n",
       "Covariance Type:            nonrobust                                         \n",
       "================================================================================\n",
       "                   coef    std err          t      P>|t|      [0.025      0.975]\n",
       "--------------------------------------------------------------------------------\n",
       "const        -1.145e+06    1.5e+05     -7.639      0.000   -1.44e+06   -8.51e+05\n",
       "YearBuilt      253.8041     59.471      4.268      0.000     137.120     370.488\n",
       "TotRmsAbvGrd  -271.7309   1284.863     -0.211      0.833   -2792.654    2249.192\n",
       "FullBath     -5857.2516   3151.436     -1.859      0.063    -1.2e+04     325.918\n",
       "1stFlrSF        12.5536      5.661      2.218      0.027       1.447      23.660\n",
       "TotalBsmtSF     17.8191      4.869      3.660      0.000       8.267      27.372\n",
       "GarageArea      11.3850     12.103      0.941      0.347     -12.362      35.132\n",
       "GarageCars    1.165e+04   3534.404      3.297      0.001    4717.013    1.86e+04\n",
       "GrLivArea       49.5656      4.962      9.990      0.000      39.831      59.300\n",
       "OverallQual   2.114e+04   1382.101     15.296      0.000    1.84e+04    2.39e+04\n",
       "YearRemodAdd   289.1070     74.989      3.855      0.000     141.977     436.237\n",
       "==============================================================================\n",
       "Omnibus:                      365.424   Durbin-Watson:                   1.997\n",
       "Prob(Omnibus):                  0.000   Jarque-Bera (JB):            40253.872\n",
       "Skew:                          -0.319   Prob(JB):                         0.00\n",
       "Kurtosis:                      31.753   Cond. No.                     4.68e+05\n",
       "==============================================================================\n",
       "\n",
       "Warnings:\n",
       "[1] Standard Errors assume that the covariance matrix of the errors is correctly specified.\n",
       "[2] The condition number is large, 4.68e+05. This might indicate that there are\n",
       "strong multicollinearity or other numerical problems.\n",
       "\"\"\""
      ]
     },
     "execution_count": 5,
     "metadata": {},
     "output_type": "execute_result"
    }
   ],
   "source": [
    "X_train = sm.add_constant(X_train)\n",
    "\n",
    "sonuclar = sm.OLS(y_train, X_train).fit()\n",
    "\n",
    "sonuclar.summary()"
   ]
  },
  {
   "cell_type": "code",
   "execution_count": 6,
   "metadata": {},
   "outputs": [
    {
     "data": {
      "image/png": "[encoded data removed]",
      "text/plain": [
       "<Figure size 600x400 with 1 Axes>"
      ]
     },
     "metadata": {
      "needs_background": "light"
     },
     "output_type": "display_data"
    }
   ],
   "source": [
    "X_test = sm.add_constant(X_test)\n",
    "\n",
    "y_preds = sonuclar.predict(X_test)\n",
    "\n",
    "plt.figure(dpi = 100)\n",
    "\n",
    "plt.scatter(y_test, y_preds)\n",
    "plt.plot(y_test, y_test, color=\"red\")\n",
    "plt.xlabel(\"Gerçek Değerler\")\n",
    "plt.ylabel(\"Tahmin edilen Değerler\")\n",
    "plt.title(\"Ücretler: Gerçek ve tahmin edilen değerler\")\n",
    "plt.show()\n"
   ]
  },
  {
   "cell_type": "markdown",
   "metadata": {},
   "source": [
    "Modelimizdeki tahminlerin 300000 fiyatindan sonra cok da iyi tahmin edilmedigini goruyoruz. Bunun nedeni kullandigimiz degiskenlerin yetersizliginden kaynaklaniyor olabilir. "
   ]
  },
  {
   "cell_type": "code",
   "execution_count": 7,
   "metadata": {},
   "outputs": [
    {
     "name": "stdout",
     "output_type": "stream",
     "text": [
      "Ortalama Mutlak Hata (MAE)        : 22223.43688764321\n",
      "Ortalama Kare Hata (MSE)          : 951225763.9630529\n",
      "Kök Ortalama Kare Hata (RMSE)     : 30841.948122047233\n",
      "Ortalama Mutlak Yüzde Hata (MAPE) : 14.034090768334723\n"
     ]
    }
   ],
   "source": [
    "print(\"Ortalama Mutlak Hata (MAE)        : {}\".format(mean_absolute_error(y_test, y_preds)))\n",
    "print(\"Ortalama Kare Hata (MSE)          : {}\".format(mse(y_test, y_preds)))\n",
    "print(\"Kök Ortalama Kare Hata (RMSE)     : {}\".format(rmse(y_test, y_preds)))\n",
    "print(\"Ortalama Mutlak Yüzde Hata (MAPE) : {}\".format(np.mean(np.abs((y_test - y_preds) / y_test)) * 100))"
   ]
  },
  {
   "cell_type": "code",
   "execution_count": 8,
   "metadata": {},
   "outputs": [],
   "source": [
    "Y = ev_fiyatlari['SalePrice']\n",
    "\n",
    "X = ev_fiyatlari[['YearBuilt', 'TotRmsAbvGrd', 'FullBath' , '1stFlrSF', 'TotalBsmtSF',\n",
    "            'GarageArea', 'GarageCars', 'GrLivArea', 'OverallQual', 'YearRemodAdd']]"
   ]
  },
  {
   "cell_type": "code",
   "execution_count": 9,
   "metadata": {},
   "outputs": [
    {
     "data": {
      "text/plain": [
       "LinearRegression(copy_X=True, fit_intercept=True, n_jobs=None,\n",
       "         normalize=False)"
      ]
     },
     "execution_count": 9,
     "metadata": {},
     "output_type": "execute_result"
    }
   ],
   "source": [
    "lrm = linear_model.LinearRegression()\n",
    "lrm.fit(X,Y)"
   ]
  },
  {
   "cell_type": "code",
   "execution_count": 10,
   "metadata": {},
   "outputs": [
    {
     "name": "stdout",
     "output_type": "stream",
     "text": [
      "Degiskenler: \n",
      " [ 2.68240707e+02  3.31050771e+01 -6.79087146e+03  1.41737355e+01\n",
      "  1.98650991e+01  1.49475334e+01  1.04179010e+04  5.12971178e+01\n",
      "  1.96045898e+04  2.96481161e+02]\n",
      "sabir Deger (Bias): \n",
      "  -1186193.7666661674\n"
     ]
    }
   ],
   "source": [
    "print ('Degiskenler: \\n', lrm.coef_)\n",
    "print ('sabir Deger (Bias): \\n ', lrm.intercept_)"
   ]
  },
  {
   "cell_type": "code",
   "execution_count": 11,
   "metadata": {},
   "outputs": [
    {
     "data": {
      "text/html": [
       "<table class=\"simpletable\">\n",
       "<caption>OLS Regression Results</caption>\n",
       "<tr>\n",
       "  <th>Dep. Variable:</th>        <td>SalePrice</td>    <th>  R-squared:         </th> <td>   0.774</td> \n",
       "</tr>\n",
       "<tr>\n",
       "  <th>Model:</th>                   <td>OLS</td>       <th>  Adj. R-squared:    </th> <td>   0.772</td> \n",
       "</tr>\n",
       "<tr>\n",
       "  <th>Method:</th>             <td>Least Squares</td>  <th>  F-statistic:       </th> <td>   495.4</td> \n",
       "</tr>\n",
       "<tr>\n",
       "  <th>Date:</th>             <td>Wed, 17 Apr 2019</td> <th>  Prob (F-statistic):</th>  <td>  0.00</td>  \n",
       "</tr>\n",
       "<tr>\n",
       "  <th>Time:</th>                 <td>08:06:26</td>     <th>  Log-Likelihood:    </th> <td> -17459.</td> \n",
       "</tr>\n",
       "<tr>\n",
       "  <th>No. Observations:</th>      <td>  1460</td>      <th>  AIC:               </th> <td>3.494e+04</td>\n",
       "</tr>\n",
       "<tr>\n",
       "  <th>Df Residuals:</th>          <td>  1449</td>      <th>  BIC:               </th> <td>3.500e+04</td>\n",
       "</tr>\n",
       "<tr>\n",
       "  <th>Df Model:</th>              <td>    10</td>      <th>                     </th>     <td> </td>    \n",
       "</tr>\n",
       "<tr>\n",
       "  <th>Covariance Type:</th>      <td>nonrobust</td>    <th>                     </th>     <td> </td>    \n",
       "</tr>\n",
       "</table>\n",
       "<table class=\"simpletable\">\n",
       "<tr>\n",
       "        <td></td>          <th>coef</th>     <th>std err</th>      <th>t</th>      <th>P>|t|</th>  <th>[0.025</th>    <th>0.975]</th>  \n",
       "</tr>\n",
       "<tr>\n",
       "  <th>const</th>        <td>-1.186e+06</td> <td> 1.29e+05</td> <td>   -9.187</td> <td> 0.000</td> <td>-1.44e+06</td> <td>-9.33e+05</td>\n",
       "</tr>\n",
       "<tr>\n",
       "  <th>YearBuilt</th>    <td>  268.2407</td> <td>   50.346</td> <td>    5.328</td> <td> 0.000</td> <td>  169.481</td> <td>  367.000</td>\n",
       "</tr>\n",
       "<tr>\n",
       "  <th>TotRmsAbvGrd</th> <td>   33.1051</td> <td> 1119.061</td> <td>    0.030</td> <td> 0.976</td> <td>-2162.048</td> <td> 2228.258</td>\n",
       "</tr>\n",
       "<tr>\n",
       "  <th>FullBath</th>     <td>-6790.8715</td> <td> 2682.369</td> <td>   -2.532</td> <td> 0.011</td> <td>-1.21e+04</td> <td>-1529.130</td>\n",
       "</tr>\n",
       "<tr>\n",
       "  <th>1stFlrSF</th>     <td>   14.1737</td> <td>    4.930</td> <td>    2.875</td> <td> 0.004</td> <td>    4.504</td> <td>   23.844</td>\n",
       "</tr>\n",
       "<tr>\n",
       "  <th>TotalBsmtSF</th>  <td>   19.8651</td> <td>    4.295</td> <td>    4.625</td> <td> 0.000</td> <td>   11.439</td> <td>   28.291</td>\n",
       "</tr>\n",
       "<tr>\n",
       "  <th>GarageArea</th>   <td>   14.9475</td> <td>   10.311</td> <td>    1.450</td> <td> 0.147</td> <td>   -5.279</td> <td>   35.174</td>\n",
       "</tr>\n",
       "<tr>\n",
       "  <th>GarageCars</th>   <td> 1.042e+04</td> <td> 3044.272</td> <td>    3.422</td> <td> 0.001</td> <td> 4446.249</td> <td> 1.64e+04</td>\n",
       "</tr>\n",
       "<tr>\n",
       "  <th>GrLivArea</th>    <td>   51.2971</td> <td>    4.233</td> <td>   12.119</td> <td> 0.000</td> <td>   42.994</td> <td>   59.600</td>\n",
       "</tr>\n",
       "<tr>\n",
       "  <th>OverallQual</th>  <td>  1.96e+04</td> <td> 1190.159</td> <td>   16.472</td> <td> 0.000</td> <td> 1.73e+04</td> <td> 2.19e+04</td>\n",
       "</tr>\n",
       "<tr>\n",
       "  <th>YearRemodAdd</th> <td>  296.4812</td> <td>   63.635</td> <td>    4.659</td> <td> 0.000</td> <td>  171.655</td> <td>  421.307</td>\n",
       "</tr>\n",
       "</table>\n",
       "<table class=\"simpletable\">\n",
       "<tr>\n",
       "  <th>Omnibus:</th>       <td>477.814</td> <th>  Durbin-Watson:     </th> <td>   1.985</td> \n",
       "</tr>\n",
       "<tr>\n",
       "  <th>Prob(Omnibus):</th> <td> 0.000</td>  <th>  Jarque-Bera (JB):  </th> <td>58906.279</td>\n",
       "</tr>\n",
       "<tr>\n",
       "  <th>Skew:</th>          <td>-0.412</td>  <th>  Prob(JB):          </th> <td>    0.00</td> \n",
       "</tr>\n",
       "<tr>\n",
       "  <th>Kurtosis:</th>      <td>34.107</td>  <th>  Cond. No.          </th> <td>4.69e+05</td> \n",
       "</tr>\n",
       "</table><br/><br/>Warnings:<br/>[1] Standard Errors assume that the covariance matrix of the errors is correctly specified.<br/>[2] The condition number is large, 4.69e+05. This might indicate that there are<br/>strong multicollinearity or other numerical problems."
      ],
      "text/plain": [
       "<class 'statsmodels.iolib.summary.Summary'>\n",
       "\"\"\"\n",
       "                            OLS Regression Results                            \n",
       "==============================================================================\n",
       "Dep. Variable:              SalePrice   R-squared:                       0.774\n",
       "Model:                            OLS   Adj. R-squared:                  0.772\n",
       "Method:                 Least Squares   F-statistic:                     495.4\n",
       "Date:                Wed, 17 Apr 2019   Prob (F-statistic):               0.00\n",
       "Time:                        08:06:26   Log-Likelihood:                -17459.\n",
       "No. Observations:                1460   AIC:                         3.494e+04\n",
       "Df Residuals:                    1449   BIC:                         3.500e+04\n",
       "Df Model:                          10                                         \n",
       "Covariance Type:            nonrobust                                         \n",
       "================================================================================\n",
       "                   coef    std err          t      P>|t|      [0.025      0.975]\n",
       "--------------------------------------------------------------------------------\n",
       "const        -1.186e+06   1.29e+05     -9.187      0.000   -1.44e+06   -9.33e+05\n",
       "YearBuilt      268.2407     50.346      5.328      0.000     169.481     367.000\n",
       "TotRmsAbvGrd    33.1051   1119.061      0.030      0.976   -2162.048    2228.258\n",
       "FullBath     -6790.8715   2682.369     -2.532      0.011   -1.21e+04   -1529.130\n",
       "1stFlrSF        14.1737      4.930      2.875      0.004       4.504      23.844\n",
       "TotalBsmtSF     19.8651      4.295      4.625      0.000      11.439      28.291\n",
       "GarageArea      14.9475     10.311      1.450      0.147      -5.279      35.174\n",
       "GarageCars    1.042e+04   3044.272      3.422      0.001    4446.249    1.64e+04\n",
       "GrLivArea       51.2971      4.233     12.119      0.000      42.994      59.600\n",
       "OverallQual    1.96e+04   1190.159     16.472      0.000    1.73e+04    2.19e+04\n",
       "YearRemodAdd   296.4812     63.635      4.659      0.000     171.655     421.307\n",
       "==============================================================================\n",
       "Omnibus:                      477.814   Durbin-Watson:                   1.985\n",
       "Prob(Omnibus):                  0.000   Jarque-Bera (JB):            58906.279\n",
       "Skew:                          -0.412   Prob(JB):                         0.00\n",
       "Kurtosis:                      34.107   Cond. No.                     4.69e+05\n",
       "==============================================================================\n",
       "\n",
       "Warnings:\n",
       "[1] Standard Errors assume that the covariance matrix of the errors is correctly specified.\n",
       "[2] The condition number is large, 4.69e+05. This might indicate that there are\n",
       "strong multicollinearity or other numerical problems.\n",
       "\"\"\""
      ]
     },
     "execution_count": 11,
     "metadata": {},
     "output_type": "execute_result"
    }
   ],
   "source": [
    "X = sm.add_constant(X)\n",
    "results = sm.OLS(Y, X).fit()\n",
    "results.summary()"
   ]
  },
  {
   "cell_type": "code",
   "execution_count": 12,
   "metadata": {},
   "outputs": [],
   "source": [
    "Y2 = ev_fiyatlari['SalePrice']\n",
    "\n",
    "X2 = ev_fiyatlari[['YearBuilt', 'TotRmsAbvGrd', 'FullBath' , '1stFlrSF', 'TotalBsmtSF',\n",
    "                  'GarageArea', 'GarageCars', 'GrLivArea', 'OverallQual', 'YearRemodAdd', 'Fireplaces',\n",
    "                  'BsmtFinSF1', 'WoodDeckSF','2ndFlrSF', 'OpenPorchSF', 'HalfBath']]"
   ]
  },
  {
   "cell_type": "code",
   "execution_count": 13,
   "metadata": {},
   "outputs": [
    {
     "name": "stdout",
     "output_type": "stream",
     "text": [
      "Eğitim kümesindeki gözlem sayısı : 1168\n",
      "Test kümesindeki gözlem sayısı   : 292\n"
     ]
    }
   ],
   "source": [
    "X2_train, X2_test, y2_train, y2_test = train_test_split(X2, Y2, test_size = 0.2, random_state = 500)\n",
    "\n",
    "print(\"Eğitim kümesindeki gözlem sayısı : {}\".format(X2_train.shape[0]))\n",
    "print(\"Test kümesindeki gözlem sayısı   : {}\".format(X2_test.shape[0]))"
   ]
  },
  {
   "cell_type": "code",
   "execution_count": 14,
   "metadata": {},
   "outputs": [
    {
     "data": {
      "text/html": [
       "<table class=\"simpletable\">\n",
       "<caption>OLS Regression Results</caption>\n",
       "<tr>\n",
       "  <th>Dep. Variable:</th>        <td>SalePrice</td>    <th>  R-squared:         </th> <td>   0.780</td> \n",
       "</tr>\n",
       "<tr>\n",
       "  <th>Model:</th>                   <td>OLS</td>       <th>  Adj. R-squared:    </th> <td>   0.777</td> \n",
       "</tr>\n",
       "<tr>\n",
       "  <th>Method:</th>             <td>Least Squares</td>  <th>  F-statistic:       </th> <td>   255.3</td> \n",
       "</tr>\n",
       "<tr>\n",
       "  <th>Date:</th>             <td>Wed, 17 Apr 2019</td> <th>  Prob (F-statistic):</th>  <td>  0.00</td>  \n",
       "</tr>\n",
       "<tr>\n",
       "  <th>Time:</th>                 <td>08:06:26</td>     <th>  Log-Likelihood:    </th> <td> -13983.</td> \n",
       "</tr>\n",
       "<tr>\n",
       "  <th>No. Observations:</th>      <td>  1168</td>      <th>  AIC:               </th> <td>2.800e+04</td>\n",
       "</tr>\n",
       "<tr>\n",
       "  <th>Df Residuals:</th>          <td>  1151</td>      <th>  BIC:               </th> <td>2.809e+04</td>\n",
       "</tr>\n",
       "<tr>\n",
       "  <th>Df Model:</th>              <td>    16</td>      <th>                     </th>     <td> </td>    \n",
       "</tr>\n",
       "<tr>\n",
       "  <th>Covariance Type:</th>      <td>nonrobust</td>    <th>                     </th>     <td> </td>    \n",
       "</tr>\n",
       "</table>\n",
       "<table class=\"simpletable\">\n",
       "<tr>\n",
       "        <td></td>          <th>coef</th>     <th>std err</th>      <th>t</th>      <th>P>|t|</th>  <th>[0.025</th>    <th>0.975]</th>  \n",
       "</tr>\n",
       "<tr>\n",
       "  <th>const</th>        <td>-1.063e+06</td> <td> 1.56e+05</td> <td>   -6.826</td> <td> 0.000</td> <td>-1.37e+06</td> <td>-7.57e+05</td>\n",
       "</tr>\n",
       "<tr>\n",
       "  <th>YearBuilt</th>    <td>  178.9098</td> <td>   63.385</td> <td>    2.823</td> <td> 0.005</td> <td>   54.546</td> <td>  303.273</td>\n",
       "</tr>\n",
       "<tr>\n",
       "  <th>TotRmsAbvGrd</th> <td> 1394.8076</td> <td> 1270.355</td> <td>    1.098</td> <td> 0.272</td> <td>-1097.663</td> <td> 3887.278</td>\n",
       "</tr>\n",
       "<tr>\n",
       "  <th>FullBath</th>     <td>-1141.8635</td> <td> 3368.702</td> <td>   -0.339</td> <td> 0.735</td> <td>-7751.348</td> <td> 5467.622</td>\n",
       "</tr>\n",
       "<tr>\n",
       "  <th>1stFlrSF</th>     <td>   21.2083</td> <td>   24.102</td> <td>    0.880</td> <td> 0.379</td> <td>  -26.081</td> <td>   68.498</td>\n",
       "</tr>\n",
       "<tr>\n",
       "  <th>TotalBsmtSF</th>  <td>   10.9937</td> <td>    4.952</td> <td>    2.220</td> <td> 0.027</td> <td>    1.277</td> <td>   20.710</td>\n",
       "</tr>\n",
       "<tr>\n",
       "  <th>GarageArea</th>   <td>    8.8197</td> <td>   11.980</td> <td>    0.736</td> <td> 0.462</td> <td>  -14.685</td> <td>   32.325</td>\n",
       "</tr>\n",
       "<tr>\n",
       "  <th>GarageCars</th>   <td> 1.189e+04</td> <td> 3493.667</td> <td>    3.402</td> <td> 0.001</td> <td> 5032.311</td> <td> 1.87e+04</td>\n",
       "</tr>\n",
       "<tr>\n",
       "  <th>GrLivArea</th>    <td>   24.7893</td> <td>   23.625</td> <td>    1.049</td> <td> 0.294</td> <td>  -21.563</td> <td>   71.142</td>\n",
       "</tr>\n",
       "<tr>\n",
       "  <th>OverallQual</th>  <td> 2.071e+04</td> <td> 1373.102</td> <td>   15.081</td> <td> 0.000</td> <td>  1.8e+04</td> <td> 2.34e+04</td>\n",
       "</tr>\n",
       "<tr>\n",
       "  <th>YearRemodAdd</th> <td>  321.8342</td> <td>   73.934</td> <td>    4.353</td> <td> 0.000</td> <td>  176.774</td> <td>  466.895</td>\n",
       "</tr>\n",
       "<tr>\n",
       "  <th>Fireplaces</th>   <td> 7355.3796</td> <td> 2151.020</td> <td>    3.419</td> <td> 0.001</td> <td> 3135.019</td> <td> 1.16e+04</td>\n",
       "</tr>\n",
       "<tr>\n",
       "  <th>BsmtFinSF1</th>   <td>   17.7149</td> <td>    3.011</td> <td>    5.883</td> <td> 0.000</td> <td>   11.807</td> <td>   23.622</td>\n",
       "</tr>\n",
       "<tr>\n",
       "  <th>WoodDeckSF</th>   <td>   31.4268</td> <td>    9.683</td> <td>    3.246</td> <td> 0.001</td> <td>   12.429</td> <td>   50.425</td>\n",
       "</tr>\n",
       "<tr>\n",
       "  <th>2ndFlrSF</th>     <td>   14.0646</td> <td>   23.806</td> <td>    0.591</td> <td> 0.555</td> <td>  -32.643</td> <td>   60.772</td>\n",
       "</tr>\n",
       "<tr>\n",
       "  <th>OpenPorchSF</th>  <td>    3.4968</td> <td>   18.357</td> <td>    0.190</td> <td> 0.849</td> <td>  -32.520</td> <td>   39.514</td>\n",
       "</tr>\n",
       "<tr>\n",
       "  <th>HalfBath</th>     <td>  309.0577</td> <td> 3288.479</td> <td>    0.094</td> <td> 0.925</td> <td>-6143.028</td> <td> 6761.144</td>\n",
       "</tr>\n",
       "</table>\n",
       "<table class=\"simpletable\">\n",
       "<tr>\n",
       "  <th>Omnibus:</th>       <td>426.007</td> <th>  Durbin-Watson:     </th> <td>   1.962</td> \n",
       "</tr>\n",
       "<tr>\n",
       "  <th>Prob(Omnibus):</th> <td> 0.000</td>  <th>  Jarque-Bera (JB):  </th> <td>61226.490</td>\n",
       "</tr>\n",
       "<tr>\n",
       "  <th>Skew:</th>          <td>-0.563</td>  <th>  Prob(JB):          </th> <td>    0.00</td> \n",
       "</tr>\n",
       "<tr>\n",
       "  <th>Kurtosis:</th>      <td>38.452</td>  <th>  Cond. No.          </th> <td>5.06e+05</td> \n",
       "</tr>\n",
       "</table><br/><br/>Warnings:<br/>[1] Standard Errors assume that the covariance matrix of the errors is correctly specified.<br/>[2] The condition number is large, 5.06e+05. This might indicate that there are<br/>strong multicollinearity or other numerical problems."
      ],
      "text/plain": [
       "<class 'statsmodels.iolib.summary.Summary'>\n",
       "\"\"\"\n",
       "                            OLS Regression Results                            \n",
       "==============================================================================\n",
       "Dep. Variable:              SalePrice   R-squared:                       0.780\n",
       "Model:                            OLS   Adj. R-squared:                  0.777\n",
       "Method:                 Least Squares   F-statistic:                     255.3\n",
       "Date:                Wed, 17 Apr 2019   Prob (F-statistic):               0.00\n",
       "Time:                        08:06:26   Log-Likelihood:                -13983.\n",
       "No. Observations:                1168   AIC:                         2.800e+04\n",
       "Df Residuals:                    1151   BIC:                         2.809e+04\n",
       "Df Model:                          16                                         \n",
       "Covariance Type:            nonrobust                                         \n",
       "================================================================================\n",
       "                   coef    std err          t      P>|t|      [0.025      0.975]\n",
       "--------------------------------------------------------------------------------\n",
       "const        -1.063e+06   1.56e+05     -6.826      0.000   -1.37e+06   -7.57e+05\n",
       "YearBuilt      178.9098     63.385      2.823      0.005      54.546     303.273\n",
       "TotRmsAbvGrd  1394.8076   1270.355      1.098      0.272   -1097.663    3887.278\n",
       "FullBath     -1141.8635   3368.702     -0.339      0.735   -7751.348    5467.622\n",
       "1stFlrSF        21.2083     24.102      0.880      0.379     -26.081      68.498\n",
       "TotalBsmtSF     10.9937      4.952      2.220      0.027       1.277      20.710\n",
       "GarageArea       8.8197     11.980      0.736      0.462     -14.685      32.325\n",
       "GarageCars    1.189e+04   3493.667      3.402      0.001    5032.311    1.87e+04\n",
       "GrLivArea       24.7893     23.625      1.049      0.294     -21.563      71.142\n",
       "OverallQual   2.071e+04   1373.102     15.081      0.000     1.8e+04    2.34e+04\n",
       "YearRemodAdd   321.8342     73.934      4.353      0.000     176.774     466.895\n",
       "Fireplaces    7355.3796   2151.020      3.419      0.001    3135.019    1.16e+04\n",
       "BsmtFinSF1      17.7149      3.011      5.883      0.000      11.807      23.622\n",
       "WoodDeckSF      31.4268      9.683      3.246      0.001      12.429      50.425\n",
       "2ndFlrSF        14.0646     23.806      0.591      0.555     -32.643      60.772\n",
       "OpenPorchSF      3.4968     18.357      0.190      0.849     -32.520      39.514\n",
       "HalfBath       309.0577   3288.479      0.094      0.925   -6143.028    6761.144\n",
       "==============================================================================\n",
       "Omnibus:                      426.007   Durbin-Watson:                   1.962\n",
       "Prob(Omnibus):                  0.000   Jarque-Bera (JB):            61226.490\n",
       "Skew:                          -0.563   Prob(JB):                         0.00\n",
       "Kurtosis:                      38.452   Cond. No.                     5.06e+05\n",
       "==============================================================================\n",
       "\n",
       "Warnings:\n",
       "[1] Standard Errors assume that the covariance matrix of the errors is correctly specified.\n",
       "[2] The condition number is large, 5.06e+05. This might indicate that there are\n",
       "strong multicollinearity or other numerical problems.\n",
       "\"\"\""
      ]
     },
     "execution_count": 14,
     "metadata": {},
     "output_type": "execute_result"
    }
   ],
   "source": [
    "X2_train = sm.add_constant(X2_train)\n",
    "\n",
    "sonuclar = sm.OLS(y2_train, X2_train).fit()\n",
    "\n",
    "sonuclar.summary()"
   ]
  },
  {
   "cell_type": "code",
   "execution_count": 15,
   "metadata": {},
   "outputs": [
    {
     "data": {
      "image/png": "[encoded data removed]",
      "text/plain": [
       "<Figure size 600x400 with 1 Axes>"
      ]
     },
     "metadata": {
      "needs_background": "light"
     },
     "output_type": "display_data"
    }
   ],
   "source": [
    "X2_test = sm.add_constant(X2_test)\n",
    "y2_preds = sonuclar.predict(X2_test)\n",
    "\n",
    "plt.figure(dpi = 100)\n",
    "\n",
    "plt.scatter(y2_test, y2_preds)\n",
    "plt.plot(y2_test, y2_test, color=\"red\")\n",
    "plt.xlabel(\"Gerçek Değerler\")\n",
    "plt.ylabel(\"Tahmin edilen Değerler\")\n",
    "plt.title(\"Ücretler: Gerçek ve tahmin edilen değerler\")\n",
    "plt.show()\n",
    "\n",
    "\n"
   ]
  },
  {
   "cell_type": "code",
   "execution_count": 16,
   "metadata": {},
   "outputs": [
    {
     "data": {
      "image/png": "[encoded data removed]",
      "text/plain": [
       "<Figure size 600x400 with 1 Axes>"
      ]
     },
     "metadata": {
      "needs_background": "light"
     },
     "output_type": "display_data"
    }
   ],
   "source": [
    "plt.figure(dpi = 100)\n",
    "\n",
    "plt.scatter(y_test, y_preds)\n",
    "plt.plot(y_test, y_test, color=\"red\")\n",
    "plt.xlabel(\"Gerçek Değerler\")\n",
    "plt.ylabel(\"Tahmin edilen Değerler\")\n",
    "plt.title(\"Ücretler: Gerçek ve tahmin edilen değerler\")\n",
    "plt.show()"
   ]
  },
  {
   "cell_type": "markdown",
   "metadata": {},
   "source": [
    "Eklenen degiskenler tahminde bir iyilesme saglayamamistir. "
   ]
  }
 ],
 "metadata": {
  "kernelspec": {
   "display_name": "Python 3",
   "language": "python",
   "name": "python3"
  },
  "language_info": {
   "codemirror_mode": {
    "name": "ipython",
    "version": 3
   },
   "file_extension": ".py",
   "mimetype": "text/x-python",
   "name": "python",
   "nbconvert_exporter": "python",
   "pygments_lexer": "ipython3",
   "version": "3.7.1"
  }
 },
 "nbformat": 4,
 "nbformat_minor": 2
}
