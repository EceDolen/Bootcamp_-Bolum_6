{
 "cells": [
  {
   "cell_type": "code",
   "execution_count": 1,
   "metadata": {},
   "outputs": [],
   "source": [
    "import pandas as pd\n",
    "import numpy as np\n",
    "import matplotlib.pyplot as plt\n",
    "from sklearn.linear_model import LinearRegression\n",
    "from sklearn.model_selection import train_test_split\n",
    "from sklearn.metrics import mean_absolute_error\n",
    "import statsmodels.api as sm\n",
    "from statsmodels.tools.eval_measures import mse, rmse\n",
    "\n",
    "%matplotlib inline\n",
    "pd.options.display.float_format = '{:.3f}'.format\n",
    "\n",
    "import warnings\n",
    "warnings.filterwarnings('ignore')"
   ]
  },
  {
   "cell_type": "markdown",
   "metadata": {},
   "source": [
    "Bu ödevde, ev fiyatları verileriyle çalışmaya devam edeceksiniz. Bu ödevi tamamlamak için, aşağıdaki görevlerin çözümlerini içeren bir Jupyter not defterini link olarak gönderin:\n",
    "\n",
    "1) Ev Fiyatları verilerini Kaggle'dan indirin.\n",
    "\n",
    "2) Önceki dersteki modelinizi yeniden uygulayın.\n",
    "\n",
    "3) Aynı model tanımını kullanarak OLS, Lasso, Ridge ve ElasticNet regresyonlarını deneyin. Bu kez, modelleriniz için en iyi hiperparametre değerlerini seçmek için k-fold çapraz doğrulama yapmanız gerekir. Hangi model en iyisidir? Açıklayın?"
   ]
  },
  {
   "cell_type": "code",
   "execution_count": 2,
   "metadata": {},
   "outputs": [],
   "source": [
    "ev_fiyatlari = pd.read_csv('data/train.csv')"
   ]
  },
  {
   "cell_type": "code",
   "execution_count": 3,
   "metadata": {},
   "outputs": [],
   "source": [
    "y = ev_fiyatlari['SalePrice']\n",
    "\n",
    "X = ev_fiyatlari[['YearBuilt', 'TotRmsAbvGrd', 'FullBath' , '1stFlrSF', 'TotalBsmtSF',\n",
    "                  'GarageArea', 'GarageCars', 'GrLivArea', 'OverallQual', 'YearRemodAdd', 'Fireplaces',\n",
    "                  'BsmtFinSF1', 'WoodDeckSF','2ndFlrSF', 'OpenPorchSF', 'HalfBath']]"
   ]
  },
  {
   "cell_type": "code",
   "execution_count": 5,
   "metadata": {},
   "outputs": [],
   "source": [
    "X_train, X_test, y_train, y_test = train_test_split(X, y, test_size = 0.2, random_state = 500)\n",
    "\n",
    "lrm = LinearRegression()\n",
    "lrm.fit(X_train, y_train)\n",
    "\n",
    "y_egitim_tahmini = lrm.predict(X_train)\n",
    "y_test_tahmini = lrm.predict(X_test)"
   ]
  },
  {
   "cell_type": "code",
   "execution_count": 7,
   "metadata": {},
   "outputs": [
    {
     "name": "stdout",
     "output_type": "stream",
     "text": [
      "Eğitim kümesindeki gözlem sayısı : 1168\n",
      "Test kümesindeki gözlem sayısı   : 292\n",
      "Eğitim kümesindeki R-Kare değeri  : 0.7801794585413929\n",
      "-----Test kümesi istatistikleri---\n",
      "Test kümesi R-Kare değeri         : 0.8296187584623316\n",
      "Ortalama Mutlak Hata (MAE)        : 20673.626321627264\n",
      "Ortalama Kare Hata (MSE)          : 828761729.8038493\n",
      "Kök Ortalama Kare Hata (RMSE)     : 28788.222067433224\n",
      "Ortalama Mutlak Yüzde Hata (MAPE) : 13.042167043498004\n"
     ]
    }
   ],
   "source": [
    "print(\"Eğitim kümesindeki gözlem sayısı : {}\".format(X_train.shape[0]))\n",
    "print(\"Test kümesindeki gözlem sayısı   : {}\".format(X_test.shape[0]))\n",
    "\n",
    "print(\"Eğitim kümesindeki R-Kare değeri  : {}\".format(lrm.score(X_train, y_train)))\n",
    "print(\"-----Test kümesi istatistikleri---\")\n",
    "print(\"Test kümesi R-Kare değeri         : {}\".format(lrm.score(X_test, y_test)))\n",
    "print(\"Ortalama Mutlak Hata (MAE)        : {}\".format(mean_absolute_error(y_test, y_test_tahmini)))\n",
    "print(\"Ortalama Kare Hata (MSE)          : {}\".format(mse(y_test, y_test_tahmini)))\n",
    "print(\"Kök Ortalama Kare Hata (RMSE)     : {}\".format(rmse(y_test, y_test_tahmini)))\n",
    "print(\"Ortalama Mutlak Yüzde Hata (MAPE) : {}\".format(np.mean(np.abs((y_test - y_test_tahmini) / y_test)) * 100))"
   ]
  },
  {
   "cell_type": "code",
   "execution_count": 8,
   "metadata": {},
   "outputs": [
    {
     "data": {
      "text/html": [
       "<table class=\"simpletable\">\n",
       "<caption>OLS Regression Results</caption>\n",
       "<tr>\n",
       "  <th>Dep. Variable:</th>        <td>SalePrice</td>    <th>  R-squared:         </th> <td>   0.962</td> \n",
       "</tr>\n",
       "<tr>\n",
       "  <th>Model:</th>                   <td>OLS</td>       <th>  Adj. R-squared:    </th> <td>   0.961</td> \n",
       "</tr>\n",
       "<tr>\n",
       "  <th>Method:</th>             <td>Least Squares</td>  <th>  F-statistic:       </th> <td>   1806.</td> \n",
       "</tr>\n",
       "<tr>\n",
       "  <th>Date:</th>             <td>Sat, 20 Apr 2019</td> <th>  Prob (F-statistic):</th>  <td>  0.00</td>  \n",
       "</tr>\n",
       "<tr>\n",
       "  <th>Time:</th>                 <td>14:37:12</td>     <th>  Log-Likelihood:    </th> <td> -14006.</td> \n",
       "</tr>\n",
       "<tr>\n",
       "  <th>No. Observations:</th>      <td>  1168</td>      <th>  AIC:               </th> <td>2.804e+04</td>\n",
       "</tr>\n",
       "<tr>\n",
       "  <th>Df Residuals:</th>          <td>  1152</td>      <th>  BIC:               </th> <td>2.812e+04</td>\n",
       "</tr>\n",
       "<tr>\n",
       "  <th>Df Model:</th>              <td>    16</td>      <th>                     </th>     <td> </td>    \n",
       "</tr>\n",
       "<tr>\n",
       "  <th>Covariance Type:</th>      <td>nonrobust</td>    <th>                     </th>     <td> </td>    \n",
       "</tr>\n",
       "</table>\n",
       "<table class=\"simpletable\">\n",
       "<tr>\n",
       "        <td></td>          <th>coef</th>     <th>std err</th>      <th>t</th>      <th>P>|t|</th>  <th>[0.025</th>    <th>0.975]</th>  \n",
       "</tr>\n",
       "<tr>\n",
       "  <th>YearBuilt</th>    <td>  -31.9344</td> <td>   56.435</td> <td>   -0.566</td> <td> 0.572</td> <td> -142.661</td> <td>   78.792</td>\n",
       "</tr>\n",
       "<tr>\n",
       "  <th>TotRmsAbvGrd</th> <td>  697.0836</td> <td> 1291.052</td> <td>    0.540</td> <td> 0.589</td> <td>-1835.993</td> <td> 3230.160</td>\n",
       "</tr>\n",
       "<tr>\n",
       "  <th>FullBath</th>     <td> 8077.9526</td> <td> 3146.561</td> <td>    2.567</td> <td> 0.010</td> <td> 1904.320</td> <td> 1.43e+04</td>\n",
       "</tr>\n",
       "<tr>\n",
       "  <th>1stFlrSF</th>     <td>   32.4401</td> <td>   24.517</td> <td>    1.323</td> <td> 0.186</td> <td>  -15.664</td> <td>   80.544</td>\n",
       "</tr>\n",
       "<tr>\n",
       "  <th>TotalBsmtSF</th>  <td>   12.9048</td> <td>    5.041</td> <td>    2.560</td> <td> 0.011</td> <td>    3.014</td> <td>   22.796</td>\n",
       "</tr>\n",
       "<tr>\n",
       "  <th>GarageArea</th>   <td>    8.8850</td> <td>   12.215</td> <td>    0.727</td> <td> 0.467</td> <td>  -15.081</td> <td>   32.851</td>\n",
       "</tr>\n",
       "<tr>\n",
       "  <th>GarageCars</th>   <td> 1.474e+04</td> <td> 3536.615</td> <td>    4.167</td> <td> 0.000</td> <td> 7797.688</td> <td> 2.17e+04</td>\n",
       "</tr>\n",
       "<tr>\n",
       "  <th>GrLivArea</th>    <td>    6.3416</td> <td>   23.930</td> <td>    0.265</td> <td> 0.791</td> <td>  -40.609</td> <td>   53.292</td>\n",
       "</tr>\n",
       "<tr>\n",
       "  <th>OverallQual</th>  <td> 2.436e+04</td> <td> 1289.261</td> <td>   18.896</td> <td> 0.000</td> <td> 2.18e+04</td> <td> 2.69e+04</td>\n",
       "</tr>\n",
       "<tr>\n",
       "  <th>YearRemodAdd</th> <td>  -19.4665</td> <td>   55.532</td> <td>   -0.351</td> <td> 0.726</td> <td> -128.421</td> <td>   89.488</td>\n",
       "</tr>\n",
       "<tr>\n",
       "  <th>Fireplaces</th>   <td> 5241.3160</td> <td> 2170.326</td> <td>    2.415</td> <td> 0.016</td> <td>  983.082</td> <td> 9499.550</td>\n",
       "</tr>\n",
       "<tr>\n",
       "  <th>BsmtFinSF1</th>   <td>   19.0558</td> <td>    3.063</td> <td>    6.220</td> <td> 0.000</td> <td>   13.045</td> <td>   25.066</td>\n",
       "</tr>\n",
       "<tr>\n",
       "  <th>WoodDeckSF</th>   <td>   40.0425</td> <td>    9.788</td> <td>    4.091</td> <td> 0.000</td> <td>   20.837</td> <td>   59.248</td>\n",
       "</tr>\n",
       "<tr>\n",
       "  <th>2ndFlrSF</th>     <td>   21.7879</td> <td>   24.245</td> <td>    0.899</td> <td> 0.369</td> <td>  -25.781</td> <td>   69.357</td>\n",
       "</tr>\n",
       "<tr>\n",
       "  <th>OpenPorchSF</th>  <td>   12.3433</td> <td>   18.670</td> <td>    0.661</td> <td> 0.509</td> <td>  -24.288</td> <td>   48.974</td>\n",
       "</tr>\n",
       "<tr>\n",
       "  <th>HalfBath</th>     <td> 6534.1558</td> <td> 3221.423</td> <td>    2.028</td> <td> 0.043</td> <td>  213.642</td> <td> 1.29e+04</td>\n",
       "</tr>\n",
       "</table>\n",
       "<table class=\"simpletable\">\n",
       "<tr>\n",
       "  <th>Omnibus:</th>       <td>385.037</td> <th>  Durbin-Watson:     </th> <td>   1.969</td> \n",
       "</tr>\n",
       "<tr>\n",
       "  <th>Prob(Omnibus):</th> <td> 0.000</td>  <th>  Jarque-Bera (JB):  </th> <td>44354.315</td>\n",
       "</tr>\n",
       "<tr>\n",
       "  <th>Skew:</th>          <td>-0.426</td>  <th>  Prob(JB):          </th> <td>    0.00</td> \n",
       "</tr>\n",
       "<tr>\n",
       "  <th>Kurtosis:</th>      <td>33.177</td>  <th>  Cond. No.          </th> <td>1.22e+04</td> \n",
       "</tr>\n",
       "</table><br/><br/>Warnings:<br/>[1] Standard Errors assume that the covariance matrix of the errors is correctly specified.<br/>[2] The condition number is large, 1.22e+04. This might indicate that there are<br/>strong multicollinearity or other numerical problems."
      ],
      "text/plain": [
       "<class 'statsmodels.iolib.summary.Summary'>\n",
       "\"\"\"\n",
       "                            OLS Regression Results                            \n",
       "==============================================================================\n",
       "Dep. Variable:              SalePrice   R-squared:                       0.962\n",
       "Model:                            OLS   Adj. R-squared:                  0.961\n",
       "Method:                 Least Squares   F-statistic:                     1806.\n",
       "Date:                Sat, 20 Apr 2019   Prob (F-statistic):               0.00\n",
       "Time:                        14:37:12   Log-Likelihood:                -14006.\n",
       "No. Observations:                1168   AIC:                         2.804e+04\n",
       "Df Residuals:                    1152   BIC:                         2.812e+04\n",
       "Df Model:                          16                                         \n",
       "Covariance Type:            nonrobust                                         \n",
       "================================================================================\n",
       "                   coef    std err          t      P>|t|      [0.025      0.975]\n",
       "--------------------------------------------------------------------------------\n",
       "YearBuilt      -31.9344     56.435     -0.566      0.572    -142.661      78.792\n",
       "TotRmsAbvGrd   697.0836   1291.052      0.540      0.589   -1835.993    3230.160\n",
       "FullBath      8077.9526   3146.561      2.567      0.010    1904.320    1.43e+04\n",
       "1stFlrSF        32.4401     24.517      1.323      0.186     -15.664      80.544\n",
       "TotalBsmtSF     12.9048      5.041      2.560      0.011       3.014      22.796\n",
       "GarageArea       8.8850     12.215      0.727      0.467     -15.081      32.851\n",
       "GarageCars    1.474e+04   3536.615      4.167      0.000    7797.688    2.17e+04\n",
       "GrLivArea        6.3416     23.930      0.265      0.791     -40.609      53.292\n",
       "OverallQual   2.436e+04   1289.261     18.896      0.000    2.18e+04    2.69e+04\n",
       "YearRemodAdd   -19.4665     55.532     -0.351      0.726    -128.421      89.488\n",
       "Fireplaces    5241.3160   2170.326      2.415      0.016     983.082    9499.550\n",
       "BsmtFinSF1      19.0558      3.063      6.220      0.000      13.045      25.066\n",
       "WoodDeckSF      40.0425      9.788      4.091      0.000      20.837      59.248\n",
       "2ndFlrSF        21.7879     24.245      0.899      0.369     -25.781      69.357\n",
       "OpenPorchSF     12.3433     18.670      0.661      0.509     -24.288      48.974\n",
       "HalfBath      6534.1558   3221.423      2.028      0.043     213.642    1.29e+04\n",
       "==============================================================================\n",
       "Omnibus:                      385.037   Durbin-Watson:                   1.969\n",
       "Prob(Omnibus):                  0.000   Jarque-Bera (JB):            44354.315\n",
       "Skew:                          -0.426   Prob(JB):                         0.00\n",
       "Kurtosis:                      33.177   Cond. No.                     1.22e+04\n",
       "==============================================================================\n",
       "\n",
       "Warnings:\n",
       "[1] Standard Errors assume that the covariance matrix of the errors is correctly specified.\n",
       "[2] The condition number is large, 1.22e+04. This might indicate that there are\n",
       "strong multicollinearity or other numerical problems.\n",
       "\"\"\""
      ]
     },
     "execution_count": 8,
     "metadata": {},
     "output_type": "execute_result"
    }
   ],
   "source": [
    "x_train = sm.add_constant(X_train)\n",
    "\n",
    "sonuclar = sm.OLS(y_train, X_train).fit()\n",
    "\n",
    "sonuclar.summary()"
   ]
  },
  {
   "cell_type": "markdown",
   "metadata": {},
   "source": [
    "***Ridge fonksiyonu***"
   ]
  },
  {
   "cell_type": "code",
   "execution_count": 9,
   "metadata": {},
   "outputs": [
    {
     "name": "stdout",
     "output_type": "stream",
     "text": [
      "Eğitim kümesi R-Kare değeri       : 0.0\n",
      "-----Test kümesi istatistikleri---\n",
      "Test kümesi R-Kare değeri         : -0.004908518792945626\n",
      "Ortalama Mutlak Hata (MAE)        : 50966.240124788885\n",
      "Ortalama Kare Hata (MSE)          : 4888036469.351241\n",
      "Kök Ortalama Kare Hata (RMSE)     : 69914.49398623465\n",
      "Ortalama Mutlak Yüzde Hata (MAPE) : 32.62793758351267\n"
     ]
    }
   ],
   "source": [
    "from sklearn.linear_model import Ridge\n",
    "\n",
    "ridgeregr = Ridge(alpha=10**37) \n",
    "ridgeregr.fit(X_train, y_train)\n",
    "\n",
    "y_egitim_tahmini = ridgeregr.predict(X_train)\n",
    "y_test_tahmini = ridgeregr.predict(X_test)\n",
    "\n",
    "print(\"Eğitim kümesi R-Kare değeri       : {}\".format(ridgeregr.score(X_train, y_train)))\n",
    "print(\"-----Test kümesi istatistikleri---\")\n",
    "print(\"Test kümesi R-Kare değeri         : {}\".format(ridgeregr.score(X_test, y_test)))\n",
    "print(\"Ortalama Mutlak Hata (MAE)        : {}\".format(mean_absolute_error(y_test, y_test_tahmini)))\n",
    "print(\"Ortalama Kare Hata (MSE)          : {}\".format(mse(y_test, y_test_tahmini)))\n",
    "print(\"Kök Ortalama Kare Hata (RMSE)     : {}\".format(rmse(y_test, y_test_tahmini)))\n",
    "print(\"Ortalama Mutlak Yüzde Hata (MAPE) : {}\".format(np.mean(np.abs((y_test - y_test_tahmini) / y_test)) * 100))"
   ]
  },
  {
   "cell_type": "markdown",
   "metadata": {},
   "source": [
    "***Lasso regresyonu***"
   ]
  },
  {
   "cell_type": "code",
   "execution_count": 10,
   "metadata": {},
   "outputs": [
    {
     "name": "stdout",
     "output_type": "stream",
     "text": [
      "Eğitim kümesi R-Kare değeri       : 0.0\n",
      "-----Test kümesi istatistikleri---\n",
      "Test kümesi R-Kare değeri         : -0.004908518792945626\n",
      "Ortalama Mutlak Hata (MAE)        : 50966.240124788885\n",
      "Ortalama Kare Hata (MSE)          : 4888036469.351241\n",
      "Kök Ortalama Kare Hata (RMSE)     : 69914.49398623465\n",
      "Ortalama Mutlak Yüzde Hata (MAPE) : 32.62793758351267\n"
     ]
    }
   ],
   "source": [
    "from sklearn.linear_model import Lasso\n",
    "\n",
    "lassoregr = Lasso(alpha=10**20.5) \n",
    "lassoregr.fit(X_train, y_train)\n",
    "\n",
    "y_egitim_tahmini = lassoregr.predict(X_train)\n",
    "y_test_tahmini = lassoregr.predict(X_test)\n",
    "\n",
    "print(\"Eğitim kümesi R-Kare değeri       : {}\".format(lassoregr.score(X_train, y_train)))\n",
    "print(\"-----Test kümesi istatistikleri---\")\n",
    "print(\"Test kümesi R-Kare değeri         : {}\".format(lassoregr.score(X_test, y_test)))\n",
    "print(\"Ortalama Mutlak Hata (MAE)        : {}\".format(mean_absolute_error(y_test, y_test_tahmini)))\n",
    "print(\"Ortalama Kare Hata (MSE)          : {}\".format(mse(y_test, y_test_tahmini)))\n",
    "print(\"Kök Ortalama Kare Hata (RMSE)     : {}\".format(rmse(y_test, y_test_tahmini)))\n",
    "print(\"Ortalama Mutlak Yüzde Hata (MAPE) : {}\".format(np.mean(np.abs((y_test - y_test_tahmini) / y_test)) * 100))"
   ]
  },
  {
   "cell_type": "markdown",
   "metadata": {},
   "source": [
    "***ElasticNet regresyonu***"
   ]
  },
  {
   "cell_type": "code",
   "execution_count": 11,
   "metadata": {},
   "outputs": [
    {
     "name": "stdout",
     "output_type": "stream",
     "text": [
      "Eğitim kümesi R-Kare değeri       : 0.0\n",
      "-----Test kümesi istatistikleri---\n",
      "Test kümesi R-Kare değeri         : -0.004908518792945626\n",
      "Ortalama Mutlak Hata (MAE)        : 50966.240124788885\n",
      "Ortalama Kare Hata (MSE)          : 4888036469.351241\n",
      "Kök Ortalama Kare Hata (RMSE)     : 69914.49398623465\n",
      "Ortalama Mutlak Yüzde Hata (MAPE) : 32.62793758351267\n"
     ]
    }
   ],
   "source": [
    "from sklearn.linear_model import ElasticNet\n",
    "\n",
    "elasticregr = ElasticNet(alpha=10**21, l1_ratio=0.5) \n",
    "elasticregr.fit(X_train, y_train)\n",
    "\n",
    "y_egitim_tahmini = elasticregr.predict(X_train)\n",
    "y_test_tahmini = elasticregr.predict(X_test)\n",
    "\n",
    "print(\"Eğitim kümesi R-Kare değeri       : {}\".format(elasticregr.score(X_train, y_train)))\n",
    "print(\"-----Test kümesi istatistikleri---\")\n",
    "print(\"Test kümesi R-Kare değeri         : {}\".format(elasticregr.score(X_test, y_test)))\n",
    "print(\"Ortalama Mutlak Hata (MAE)        : {}\".format(mean_absolute_error(y_test, y_test_tahmini)))\n",
    "print(\"Ortalama Kare Hata (MSE)          : {}\".format(mse(y_test, y_test_tahmini)))\n",
    "print(\"Kök Ortalama Kare Hata (RMSE)     : {}\".format(rmse(y_test, y_test_tahmini)))\n",
    "print(\"Ortalama Mutlak Yüzde Hata (MAPE) : {}\".format(np.mean(np.abs((y_test - y_test_tahmini) / y_test)) * 100))"
   ]
  },
  {
   "cell_type": "code",
   "execution_count": null,
   "metadata": {},
   "outputs": [],
   "source": []
  },
  {
   "cell_type": "markdown",
   "metadata": {},
   "source": [
    "k-fold "
   ]
  },
  {
   "cell_type": "code",
   "execution_count": 12,
   "metadata": {},
   "outputs": [],
   "source": [
    "from sklearn.model_selection import KFold"
   ]
  },
  {
   "cell_type": "code",
   "execution_count": 13,
   "metadata": {},
   "outputs": [
    {
     "data": {
      "text/plain": [
       "2"
      ]
     },
     "execution_count": 13,
     "metadata": {},
     "output_type": "execute_result"
    }
   ],
   "source": [
    "kf = KFold(n_splits=2)\n",
    "kf.get_n_splits(X)"
   ]
  },
  {
   "cell_type": "code",
   "execution_count": 14,
   "metadata": {},
   "outputs": [
    {
     "name": "stdout",
     "output_type": "stream",
     "text": [
      "KFold(n_splits=2, random_state=None, shuffle=False)\n"
     ]
    }
   ],
   "source": [
    "print(kf)"
   ]
  },
  {
   "cell_type": "code",
   "execution_count": 17,
   "metadata": {},
   "outputs": [
    {
     "name": "stdout",
     "output_type": "stream",
     "text": [
      "TRAIN: [ 730  731  732  733  734  735  736  737  738  739  740  741  742  743\n",
      "  744  745  746  747  748  749  750  751  752  753  754  755  756  757\n",
      "  758  759  760  761  762  763  764  765  766  767  768  769  770  771\n",
      "  772  773  774  775  776  777  778  779  780  781  782  783  784  785\n",
      "  786  787  788  789  790  791  792  793  794  795  796  797  798  799\n",
      "  800  801  802  803  804  805  806  807  808  809  810  811  812  813\n",
      "  814  815  816  817  818  819  820  821  822  823  824  825  826  827\n",
      "  828  829  830  831  832  833  834  835  836  837  838  839  840  841\n",
      "  842  843  844  845  846  847  848  849  850  851  852  853  854  855\n",
      "  856  857  858  859  860  861  862  863  864  865  866  867  868  869\n",
      "  870  871  872  873  874  875  876  877  878  879  880  881  882  883\n",
      "  884  885  886  887  888  889  890  891  892  893  894  895  896  897\n",
      "  898  899  900  901  902  903  904  905  906  907  908  909  910  911\n",
      "  912  913  914  915  916  917  918  919  920  921  922  923  924  925\n",
      "  926  927  928  929  930  931  932  933  934  935  936  937  938  939\n",
      "  940  941  942  943  944  945  946  947  948  949  950  951  952  953\n",
      "  954  955  956  957  958  959  960  961  962  963  964  965  966  967\n",
      "  968  969  970  971  972  973  974  975  976  977  978  979  980  981\n",
      "  982  983  984  985  986  987  988  989  990  991  992  993  994  995\n",
      "  996  997  998  999 1000 1001 1002 1003 1004 1005 1006 1007 1008 1009\n",
      " 1010 1011 1012 1013 1014 1015 1016 1017 1018 1019 1020 1021 1022 1023\n",
      " 1024 1025 1026 1027 1028 1029 1030 1031 1032 1033 1034 1035 1036 1037\n",
      " 1038 1039 1040 1041 1042 1043 1044 1045 1046 1047 1048 1049 1050 1051\n",
      " 1052 1053 1054 1055 1056 1057 1058 1059 1060 1061 1062 1063 1064 1065\n",
      " 1066 1067 1068 1069 1070 1071 1072 1073 1074 1075 1076 1077 1078 1079\n",
      " 1080 1081 1082 1083 1084 1085 1086 1087 1088 1089 1090 1091 1092 1093\n",
      " 1094 1095 1096 1097 1098 1099 1100 1101 1102 1103 1104 1105 1106 1107\n",
      " 1108 1109 1110 1111 1112 1113 1114 1115 1116 1117 1118 1119 1120 1121\n",
      " 1122 1123 1124 1125 1126 1127 1128 1129 1130 1131 1132 1133 1134 1135\n",
      " 1136 1137 1138 1139 1140 1141 1142 1143 1144 1145 1146 1147 1148 1149\n",
      " 1150 1151 1152 1153 1154 1155 1156 1157 1158 1159 1160 1161 1162 1163\n",
      " 1164 1165 1166 1167 1168 1169 1170 1171 1172 1173 1174 1175 1176 1177\n",
      " 1178 1179 1180 1181 1182 1183 1184 1185 1186 1187 1188 1189 1190 1191\n",
      " 1192 1193 1194 1195 1196 1197 1198 1199 1200 1201 1202 1203 1204 1205\n",
      " 1206 1207 1208 1209 1210 1211 1212 1213 1214 1215 1216 1217 1218 1219\n",
      " 1220 1221 1222 1223 1224 1225 1226 1227 1228 1229 1230 1231 1232 1233\n",
      " 1234 1235 1236 1237 1238 1239 1240 1241 1242 1243 1244 1245 1246 1247\n",
      " 1248 1249 1250 1251 1252 1253 1254 1255 1256 1257 1258 1259 1260 1261\n",
      " 1262 1263 1264 1265 1266 1267 1268 1269 1270 1271 1272 1273 1274 1275\n",
      " 1276 1277 1278 1279 1280 1281 1282 1283 1284 1285 1286 1287 1288 1289\n",
      " 1290 1291 1292 1293 1294 1295 1296 1297 1298 1299 1300 1301 1302 1303\n",
      " 1304 1305 1306 1307 1308 1309 1310 1311 1312 1313 1314 1315 1316 1317\n",
      " 1318 1319 1320 1321 1322 1323 1324 1325 1326 1327 1328 1329 1330 1331\n",
      " 1332 1333 1334 1335 1336 1337 1338 1339 1340 1341 1342 1343 1344 1345\n",
      " 1346 1347 1348 1349 1350 1351 1352 1353 1354 1355 1356 1357 1358 1359\n",
      " 1360 1361 1362 1363 1364 1365 1366 1367 1368 1369 1370 1371 1372 1373\n",
      " 1374 1375 1376 1377 1378 1379 1380 1381 1382 1383 1384 1385 1386 1387\n",
      " 1388 1389 1390 1391 1392 1393 1394 1395 1396 1397 1398 1399 1400 1401\n",
      " 1402 1403 1404 1405 1406 1407 1408 1409 1410 1411 1412 1413 1414 1415\n",
      " 1416 1417 1418 1419 1420 1421 1422 1423 1424 1425 1426 1427 1428 1429\n",
      " 1430 1431 1432 1433 1434 1435 1436 1437 1438 1439 1440 1441 1442 1443\n",
      " 1444 1445 1446 1447 1448 1449 1450 1451 1452 1453 1454 1455 1456 1457\n",
      " 1458 1459] TEST: [  0   1   2   3   4   5   6   7   8   9  10  11  12  13  14  15  16  17\n",
      "  18  19  20  21  22  23  24  25  26  27  28  29  30  31  32  33  34  35\n",
      "  36  37  38  39  40  41  42  43  44  45  46  47  48  49  50  51  52  53\n",
      "  54  55  56  57  58  59  60  61  62  63  64  65  66  67  68  69  70  71\n",
      "  72  73  74  75  76  77  78  79  80  81  82  83  84  85  86  87  88  89\n",
      "  90  91  92  93  94  95  96  97  98  99 100 101 102 103 104 105 106 107\n",
      " 108 109 110 111 112 113 114 115 116 117 118 119 120 121 122 123 124 125\n",
      " 126 127 128 129 130 131 132 133 134 135 136 137 138 139 140 141 142 143\n",
      " 144 145 146 147 148 149 150 151 152 153 154 155 156 157 158 159 160 161\n",
      " 162 163 164 165 166 167 168 169 170 171 172 173 174 175 176 177 178 179\n",
      " 180 181 182 183 184 185 186 187 188 189 190 191 192 193 194 195 196 197\n",
      " 198 199 200 201 202 203 204 205 206 207 208 209 210 211 212 213 214 215\n",
      " 216 217 218 219 220 221 222 223 224 225 226 227 228 229 230 231 232 233\n",
      " 234 235 236 237 238 239 240 241 242 243 244 245 246 247 248 249 250 251\n",
      " 252 253 254 255 256 257 258 259 260 261 262 263 264 265 266 267 268 269\n",
      " 270 271 272 273 274 275 276 277 278 279 280 281 282 283 284 285 286 287\n",
      " 288 289 290 291 292 293 294 295 296 297 298 299 300 301 302 303 304 305\n",
      " 306 307 308 309 310 311 312 313 314 315 316 317 318 319 320 321 322 323\n",
      " 324 325 326 327 328 329 330 331 332 333 334 335 336 337 338 339 340 341\n",
      " 342 343 344 345 346 347 348 349 350 351 352 353 354 355 356 357 358 359\n",
      " 360 361 362 363 364 365 366 367 368 369 370 371 372 373 374 375 376 377\n",
      " 378 379 380 381 382 383 384 385 386 387 388 389 390 391 392 393 394 395\n",
      " 396 397 398 399 400 401 402 403 404 405 406 407 408 409 410 411 412 413\n",
      " 414 415 416 417 418 419 420 421 422 423 424 425 426 427 428 429 430 431\n",
      " 432 433 434 435 436 437 438 439 440 441 442 443 444 445 446 447 448 449\n",
      " 450 451 452 453 454 455 456 457 458 459 460 461 462 463 464 465 466 467\n",
      " 468 469 470 471 472 473 474 475 476 477 478 479 480 481 482 483 484 485\n",
      " 486 487 488 489 490 491 492 493 494 495 496 497 498 499 500 501 502 503\n",
      " 504 505 506 507 508 509 510 511 512 513 514 515 516 517 518 519 520 521\n",
      " 522 523 524 525 526 527 528 529 530 531 532 533 534 535 536 537 538 539\n",
      " 540 541 542 543 544 545 546 547 548 549 550 551 552 553 554 555 556 557\n",
      " 558 559 560 561 562 563 564 565 566 567 568 569 570 571 572 573 574 575\n",
      " 576 577 578 579 580 581 582 583 584 585 586 587 588 589 590 591 592 593\n",
      " 594 595 596 597 598 599 600 601 602 603 604 605 606 607 608 609 610 611\n",
      " 612 613 614 615 616 617 618 619 620 621 622 623 624 625 626 627 628 629\n",
      " 630 631 632 633 634 635 636 637 638 639 640 641 642 643 644 645 646 647\n",
      " 648 649 650 651 652 653 654 655 656 657 658 659 660 661 662 663 664 665\n",
      " 666 667 668 669 670 671 672 673 674 675 676 677 678 679 680 681 682 683\n",
      " 684 685 686 687 688 689 690 691 692 693 694 695 696 697 698 699 700 701\n",
      " 702 703 704 705 706 707 708 709 710 711 712 713 714 715 716 717 718 719\n",
      " 720 721 722 723 724 725 726 727 728 729]\n"
     ]
    },
    {
     "ename": "KeyError",
     "evalue": "'[ 730  731  732  733  734  735  736  737  738  739  740  741  742  743\\n  744  745  746  747  748  749  750  751  752  753  754  755  756  757\\n  758  759  760  761  762  763  764  765  766  767  768  769  770  771\\n  772  773  774  775  776  777  778  779  780  781  782  783  784  785\\n  786  787  788  789  790  791  792  793  794  795  796  797  798  799\\n  800  801  802  803  804  805  806  807  808  809  810  811  812  813\\n  814  815  816  817  818  819  820  821  822  823  824  825  826  827\\n  828  829  830  831  832  833  834  835  836  837  838  839  840  841\\n  842  843  844  845  846  847  848  849  850  851  852  853  854  855\\n  856  857  858  859  860  861  862  863  864  865  866  867  868  869\\n  870  871  872  873  874  875  876  877  878  879  880  881  882  883\\n  884  885  886  887  888  889  890  891  892  893  894  895  896  897\\n  898  899  900  901  902  903  904  905  906  907  908  909  910  911\\n  912  913  914  915  916  917  918  919  920  921  922  923  924  925\\n  926  927  928  929  930  931  932  933  934  935  936  937  938  939\\n  940  941  942  943  944  945  946  947  948  949  950  951  952  953\\n  954  955  956  957  958  959  960  961  962  963  964  965  966  967\\n  968  969  970  971  972  973  974  975  976  977  978  979  980  981\\n  982  983  984  985  986  987  988  989  990  991  992  993  994  995\\n  996  997  998  999 1000 1001 1002 1003 1004 1005 1006 1007 1008 1009\\n 1010 1011 1012 1013 1014 1015 1016 1017 1018 1019 1020 1021 1022 1023\\n 1024 1025 1026 1027 1028 1029 1030 1031 1032 1033 1034 1035 1036 1037\\n 1038 1039 1040 1041 1042 1043 1044 1045 1046 1047 1048 1049 1050 1051\\n 1052 1053 1054 1055 1056 1057 1058 1059 1060 1061 1062 1063 1064 1065\\n 1066 1067 1068 1069 1070 1071 1072 1073 1074 1075 1076 1077 1078 1079\\n 1080 1081 1082 1083 1084 1085 1086 1087 1088 1089 1090 1091 1092 1093\\n 1094 1095 1096 1097 1098 1099 1100 1101 1102 1103 1104 1105 1106 1107\\n 1108 1109 1110 1111 1112 1113 1114 1115 1116 1117 1118 1119 1120 1121\\n 1122 1123 1124 1125 1126 1127 1128 1129 1130 1131 1132 1133 1134 1135\\n 1136 1137 1138 1139 1140 1141 1142 1143 1144 1145 1146 1147 1148 1149\\n 1150 1151 1152 1153 1154 1155 1156 1157 1158 1159 1160 1161 1162 1163\\n 1164 1165 1166 1167 1168 1169 1170 1171 1172 1173 1174 1175 1176 1177\\n 1178 1179 1180 1181 1182 1183 1184 1185 1186 1187 1188 1189 1190 1191\\n 1192 1193 1194 1195 1196 1197 1198 1199 1200 1201 1202 1203 1204 1205\\n 1206 1207 1208 1209 1210 1211 1212 1213 1214 1215 1216 1217 1218 1219\\n 1220 1221 1222 1223 1224 1225 1226 1227 1228 1229 1230 1231 1232 1233\\n 1234 1235 1236 1237 1238 1239 1240 1241 1242 1243 1244 1245 1246 1247\\n 1248 1249 1250 1251 1252 1253 1254 1255 1256 1257 1258 1259 1260 1261\\n 1262 1263 1264 1265 1266 1267 1268 1269 1270 1271 1272 1273 1274 1275\\n 1276 1277 1278 1279 1280 1281 1282 1283 1284 1285 1286 1287 1288 1289\\n 1290 1291 1292 1293 1294 1295 1296 1297 1298 1299 1300 1301 1302 1303\\n 1304 1305 1306 1307 1308 1309 1310 1311 1312 1313 1314 1315 1316 1317\\n 1318 1319 1320 1321 1322 1323 1324 1325 1326 1327 1328 1329 1330 1331\\n 1332 1333 1334 1335 1336 1337 1338 1339 1340 1341 1342 1343 1344 1345\\n 1346 1347 1348 1349 1350 1351 1352 1353 1354 1355 1356 1357 1358 1359\\n 1360 1361 1362 1363 1364 1365 1366 1367 1368 1369 1370 1371 1372 1373\\n 1374 1375 1376 1377 1378 1379 1380 1381 1382 1383 1384 1385 1386 1387\\n 1388 1389 1390 1391 1392 1393 1394 1395 1396 1397 1398 1399 1400 1401\\n 1402 1403 1404 1405 1406 1407 1408 1409 1410 1411 1412 1413 1414 1415\\n 1416 1417 1418 1419 1420 1421 1422 1423 1424 1425 1426 1427 1428 1429\\n 1430 1431 1432 1433 1434 1435 1436 1437 1438 1439 1440 1441 1442 1443\\n 1444 1445 1446 1447 1448 1449 1450 1451 1452 1453 1454 1455 1456 1457\\n 1458 1459] not in index'",
     "output_type": "error",
     "traceback": [
      "\u001b[1;31m---------------------------------------------------------------------------\u001b[0m",
      "\u001b[1;31mKeyError\u001b[0m                                  Traceback (most recent call last)",
      "\u001b[1;32m<ipython-input-17-749e6dfcd074>\u001b[0m in \u001b[0;36m<module>\u001b[1;34m\u001b[0m\n\u001b[0;32m      3\u001b[0m \u001b[1;32mfor\u001b[0m \u001b[0mtrain_index\u001b[0m\u001b[1;33m,\u001b[0m \u001b[0mtest_index\u001b[0m \u001b[1;32min\u001b[0m \u001b[0mkf\u001b[0m\u001b[1;33m.\u001b[0m\u001b[0msplit\u001b[0m\u001b[1;33m(\u001b[0m\u001b[0mX\u001b[0m\u001b[1;33m)\u001b[0m\u001b[1;33m:\u001b[0m\u001b[1;33m\u001b[0m\u001b[1;33m\u001b[0m\u001b[0m\n\u001b[0;32m      4\u001b[0m     \u001b[0mprint\u001b[0m\u001b[1;33m(\u001b[0m\u001b[1;34m\"TRAIN:\"\u001b[0m\u001b[1;33m,\u001b[0m \u001b[0mtrain_index\u001b[0m\u001b[1;33m,\u001b[0m \u001b[1;34m\"TEST:\"\u001b[0m\u001b[1;33m,\u001b[0m \u001b[0mtest_index\u001b[0m\u001b[1;33m)\u001b[0m\u001b[1;33m\u001b[0m\u001b[1;33m\u001b[0m\u001b[0m\n\u001b[1;32m----> 5\u001b[1;33m     \u001b[0mX_train\u001b[0m\u001b[1;33m,\u001b[0m \u001b[0mX_test\u001b[0m \u001b[1;33m=\u001b[0m \u001b[0mX\u001b[0m\u001b[1;33m[\u001b[0m\u001b[0mtrain_index\u001b[0m\u001b[1;33m]\u001b[0m\u001b[1;33m,\u001b[0m \u001b[0mX\u001b[0m\u001b[1;33m[\u001b[0m\u001b[0mtest_index\u001b[0m\u001b[1;33m]\u001b[0m\u001b[1;33m\u001b[0m\u001b[1;33m\u001b[0m\u001b[0m\n\u001b[0m\u001b[0;32m      6\u001b[0m     \u001b[0my_train\u001b[0m\u001b[1;33m,\u001b[0m \u001b[0my_test\u001b[0m \u001b[1;33m=\u001b[0m \u001b[0my\u001b[0m\u001b[1;33m[\u001b[0m\u001b[0mtrain_index\u001b[0m\u001b[1;33m]\u001b[0m\u001b[1;33m,\u001b[0m \u001b[0my\u001b[0m\u001b[1;33m[\u001b[0m\u001b[0mtest_index\u001b[0m\u001b[1;33m]\u001b[0m\u001b[1;33m\u001b[0m\u001b[1;33m\u001b[0m\u001b[0m\n\u001b[0;32m      7\u001b[0m \u001b[1;33m\u001b[0m\u001b[0m\n",
      "\u001b[1;32m~\\Anaconda3\\lib\\site-packages\\pandas\\core\\frame.py\u001b[0m in \u001b[0;36m__getitem__\u001b[1;34m(self, key)\u001b[0m\n\u001b[0;32m   2680\u001b[0m         \u001b[1;32mif\u001b[0m \u001b[0misinstance\u001b[0m\u001b[1;33m(\u001b[0m\u001b[0mkey\u001b[0m\u001b[1;33m,\u001b[0m \u001b[1;33m(\u001b[0m\u001b[0mSeries\u001b[0m\u001b[1;33m,\u001b[0m \u001b[0mnp\u001b[0m\u001b[1;33m.\u001b[0m\u001b[0mndarray\u001b[0m\u001b[1;33m,\u001b[0m \u001b[0mIndex\u001b[0m\u001b[1;33m,\u001b[0m \u001b[0mlist\u001b[0m\u001b[1;33m)\u001b[0m\u001b[1;33m)\u001b[0m\u001b[1;33m:\u001b[0m\u001b[1;33m\u001b[0m\u001b[1;33m\u001b[0m\u001b[0m\n\u001b[0;32m   2681\u001b[0m             \u001b[1;31m# either boolean or fancy integer index\u001b[0m\u001b[1;33m\u001b[0m\u001b[1;33m\u001b[0m\u001b[1;33m\u001b[0m\u001b[0m\n\u001b[1;32m-> 2682\u001b[1;33m             \u001b[1;32mreturn\u001b[0m \u001b[0mself\u001b[0m\u001b[1;33m.\u001b[0m\u001b[0m_getitem_array\u001b[0m\u001b[1;33m(\u001b[0m\u001b[0mkey\u001b[0m\u001b[1;33m)\u001b[0m\u001b[1;33m\u001b[0m\u001b[1;33m\u001b[0m\u001b[0m\n\u001b[0m\u001b[0;32m   2683\u001b[0m         \u001b[1;32melif\u001b[0m \u001b[0misinstance\u001b[0m\u001b[1;33m(\u001b[0m\u001b[0mkey\u001b[0m\u001b[1;33m,\u001b[0m \u001b[0mDataFrame\u001b[0m\u001b[1;33m)\u001b[0m\u001b[1;33m:\u001b[0m\u001b[1;33m\u001b[0m\u001b[1;33m\u001b[0m\u001b[0m\n\u001b[0;32m   2684\u001b[0m             \u001b[1;32mreturn\u001b[0m \u001b[0mself\u001b[0m\u001b[1;33m.\u001b[0m\u001b[0m_getitem_frame\u001b[0m\u001b[1;33m(\u001b[0m\u001b[0mkey\u001b[0m\u001b[1;33m)\u001b[0m\u001b[1;33m\u001b[0m\u001b[1;33m\u001b[0m\u001b[0m\n",
      "\u001b[1;32m~\\Anaconda3\\lib\\site-packages\\pandas\\core\\frame.py\u001b[0m in \u001b[0;36m_getitem_array\u001b[1;34m(self, key)\u001b[0m\n\u001b[0;32m   2724\u001b[0m             \u001b[1;32mreturn\u001b[0m \u001b[0mself\u001b[0m\u001b[1;33m.\u001b[0m\u001b[0m_take\u001b[0m\u001b[1;33m(\u001b[0m\u001b[0mindexer\u001b[0m\u001b[1;33m,\u001b[0m \u001b[0maxis\u001b[0m\u001b[1;33m=\u001b[0m\u001b[1;36m0\u001b[0m\u001b[1;33m)\u001b[0m\u001b[1;33m\u001b[0m\u001b[1;33m\u001b[0m\u001b[0m\n\u001b[0;32m   2725\u001b[0m         \u001b[1;32melse\u001b[0m\u001b[1;33m:\u001b[0m\u001b[1;33m\u001b[0m\u001b[1;33m\u001b[0m\u001b[0m\n\u001b[1;32m-> 2726\u001b[1;33m             \u001b[0mindexer\u001b[0m \u001b[1;33m=\u001b[0m \u001b[0mself\u001b[0m\u001b[1;33m.\u001b[0m\u001b[0mloc\u001b[0m\u001b[1;33m.\u001b[0m\u001b[0m_convert_to_indexer\u001b[0m\u001b[1;33m(\u001b[0m\u001b[0mkey\u001b[0m\u001b[1;33m,\u001b[0m \u001b[0maxis\u001b[0m\u001b[1;33m=\u001b[0m\u001b[1;36m1\u001b[0m\u001b[1;33m)\u001b[0m\u001b[1;33m\u001b[0m\u001b[1;33m\u001b[0m\u001b[0m\n\u001b[0m\u001b[0;32m   2727\u001b[0m             \u001b[1;32mreturn\u001b[0m \u001b[0mself\u001b[0m\u001b[1;33m.\u001b[0m\u001b[0m_take\u001b[0m\u001b[1;33m(\u001b[0m\u001b[0mindexer\u001b[0m\u001b[1;33m,\u001b[0m \u001b[0maxis\u001b[0m\u001b[1;33m=\u001b[0m\u001b[1;36m1\u001b[0m\u001b[1;33m)\u001b[0m\u001b[1;33m\u001b[0m\u001b[1;33m\u001b[0m\u001b[0m\n\u001b[0;32m   2728\u001b[0m \u001b[1;33m\u001b[0m\u001b[0m\n",
      "\u001b[1;32m~\\Anaconda3\\lib\\site-packages\\pandas\\core\\indexing.py\u001b[0m in \u001b[0;36m_convert_to_indexer\u001b[1;34m(self, obj, axis, is_setter)\u001b[0m\n\u001b[0;32m   1325\u001b[0m                 \u001b[1;32mif\u001b[0m \u001b[0mmask\u001b[0m\u001b[1;33m.\u001b[0m\u001b[0many\u001b[0m\u001b[1;33m(\u001b[0m\u001b[1;33m)\u001b[0m\u001b[1;33m:\u001b[0m\u001b[1;33m\u001b[0m\u001b[1;33m\u001b[0m\u001b[0m\n\u001b[0;32m   1326\u001b[0m                     raise KeyError('{mask} not in index'\n\u001b[1;32m-> 1327\u001b[1;33m                                    .format(mask=objarr[mask]))\n\u001b[0m\u001b[0;32m   1328\u001b[0m \u001b[1;33m\u001b[0m\u001b[0m\n\u001b[0;32m   1329\u001b[0m                 \u001b[1;32mreturn\u001b[0m \u001b[0mcom\u001b[0m\u001b[1;33m.\u001b[0m\u001b[0m_values_from_object\u001b[0m\u001b[1;33m(\u001b[0m\u001b[0mindexer\u001b[0m\u001b[1;33m)\u001b[0m\u001b[1;33m\u001b[0m\u001b[1;33m\u001b[0m\u001b[0m\n",
      "\u001b[1;31mKeyError\u001b[0m: '[ 730  731  732  733  734  735  736  737  738  739  740  741  742  743\\n  744  745  746  747  748  749  750  751  752  753  754  755  756  757\\n  758  759  760  761  762  763  764  765  766  767  768  769  770  771\\n  772  773  774  775  776  777  778  779  780  781  782  783  784  785\\n  786  787  788  789  790  791  792  793  794  795  796  797  798  799\\n  800  801  802  803  804  805  806  807  808  809  810  811  812  813\\n  814  815  816  817  818  819  820  821  822  823  824  825  826  827\\n  828  829  830  831  832  833  834  835  836  837  838  839  840  841\\n  842  843  844  845  846  847  848  849  850  851  852  853  854  855\\n  856  857  858  859  860  861  862  863  864  865  866  867  868  869\\n  870  871  872  873  874  875  876  877  878  879  880  881  882  883\\n  884  885  886  887  888  889  890  891  892  893  894  895  896  897\\n  898  899  900  901  902  903  904  905  906  907  908  909  910  911\\n  912  913  914  915  916  917  918  919  920  921  922  923  924  925\\n  926  927  928  929  930  931  932  933  934  935  936  937  938  939\\n  940  941  942  943  944  945  946  947  948  949  950  951  952  953\\n  954  955  956  957  958  959  960  961  962  963  964  965  966  967\\n  968  969  970  971  972  973  974  975  976  977  978  979  980  981\\n  982  983  984  985  986  987  988  989  990  991  992  993  994  995\\n  996  997  998  999 1000 1001 1002 1003 1004 1005 1006 1007 1008 1009\\n 1010 1011 1012 1013 1014 1015 1016 1017 1018 1019 1020 1021 1022 1023\\n 1024 1025 1026 1027 1028 1029 1030 1031 1032 1033 1034 1035 1036 1037\\n 1038 1039 1040 1041 1042 1043 1044 1045 1046 1047 1048 1049 1050 1051\\n 1052 1053 1054 1055 1056 1057 1058 1059 1060 1061 1062 1063 1064 1065\\n 1066 1067 1068 1069 1070 1071 1072 1073 1074 1075 1076 1077 1078 1079\\n 1080 1081 1082 1083 1084 1085 1086 1087 1088 1089 1090 1091 1092 1093\\n 1094 1095 1096 1097 1098 1099 1100 1101 1102 1103 1104 1105 1106 1107\\n 1108 1109 1110 1111 1112 1113 1114 1115 1116 1117 1118 1119 1120 1121\\n 1122 1123 1124 1125 1126 1127 1128 1129 1130 1131 1132 1133 1134 1135\\n 1136 1137 1138 1139 1140 1141 1142 1143 1144 1145 1146 1147 1148 1149\\n 1150 1151 1152 1153 1154 1155 1156 1157 1158 1159 1160 1161 1162 1163\\n 1164 1165 1166 1167 1168 1169 1170 1171 1172 1173 1174 1175 1176 1177\\n 1178 1179 1180 1181 1182 1183 1184 1185 1186 1187 1188 1189 1190 1191\\n 1192 1193 1194 1195 1196 1197 1198 1199 1200 1201 1202 1203 1204 1205\\n 1206 1207 1208 1209 1210 1211 1212 1213 1214 1215 1216 1217 1218 1219\\n 1220 1221 1222 1223 1224 1225 1226 1227 1228 1229 1230 1231 1232 1233\\n 1234 1235 1236 1237 1238 1239 1240 1241 1242 1243 1244 1245 1246 1247\\n 1248 1249 1250 1251 1252 1253 1254 1255 1256 1257 1258 1259 1260 1261\\n 1262 1263 1264 1265 1266 1267 1268 1269 1270 1271 1272 1273 1274 1275\\n 1276 1277 1278 1279 1280 1281 1282 1283 1284 1285 1286 1287 1288 1289\\n 1290 1291 1292 1293 1294 1295 1296 1297 1298 1299 1300 1301 1302 1303\\n 1304 1305 1306 1307 1308 1309 1310 1311 1312 1313 1314 1315 1316 1317\\n 1318 1319 1320 1321 1322 1323 1324 1325 1326 1327 1328 1329 1330 1331\\n 1332 1333 1334 1335 1336 1337 1338 1339 1340 1341 1342 1343 1344 1345\\n 1346 1347 1348 1349 1350 1351 1352 1353 1354 1355 1356 1357 1358 1359\\n 1360 1361 1362 1363 1364 1365 1366 1367 1368 1369 1370 1371 1372 1373\\n 1374 1375 1376 1377 1378 1379 1380 1381 1382 1383 1384 1385 1386 1387\\n 1388 1389 1390 1391 1392 1393 1394 1395 1396 1397 1398 1399 1400 1401\\n 1402 1403 1404 1405 1406 1407 1408 1409 1410 1411 1412 1413 1414 1415\\n 1416 1417 1418 1419 1420 1421 1422 1423 1424 1425 1426 1427 1428 1429\\n 1430 1431 1432 1433 1434 1435 1436 1437 1438 1439 1440 1441 1442 1443\\n 1444 1445 1446 1447 1448 1449 1450 1451 1452 1453 1454 1455 1456 1457\\n 1458 1459] not in index'"
     ]
    }
   ],
   "source": [
    "KFold(n_splits=2, random_state=None, shuffle=False)\n",
    "\n",
    "for train_index, test_index in kf.split(X):\n",
    "    print(\"TRAIN:\", train_index, \"TEST:\", test_index)\n",
    "    X_train, X_test = X[train_index], X[test_index]\n",
    "    y_train, y_test = y[train_index], y[test_index]\n",
    "    \n",
    "    "
   ]
  },
  {
   "cell_type": "code",
   "execution_count": null,
   "metadata": {},
   "outputs": [],
   "source": []
  }
 ],
 "metadata": {
  "kernelspec": {
   "display_name": "Python 3",
   "language": "python",
   "name": "python3"
  },
  "language_info": {
   "codemirror_mode": {
    "name": "ipython",
    "version": 3
   },
   "file_extension": ".py",
   "mimetype": "text/x-python",
   "name": "python",
   "nbconvert_exporter": "python",
   "pygments_lexer": "ipython3",
   "version": "3.7.1"
  }
 },
 "nbformat": 4,
 "nbformat_minor": 2
}
