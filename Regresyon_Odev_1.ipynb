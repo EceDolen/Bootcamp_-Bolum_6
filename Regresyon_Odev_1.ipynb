{
 "cells": [
  {
   "cell_type": "markdown",
   "metadata": {},
   "source": [
    "1. Birkaç ülke için elinizde finansal, ekonomik ve sosyal göstergeler hakkında Dünya Bankası verileri olduğunu varsayalım. Bu ülkelerdeki gelişme düzeyini etkileyen faktörleri ölçmek istiyorsunuz. Bu amaçla, milli gelirin nüfusa bölümü olarak tanımlanan kişi başına düşen milli geliri, kalkınma seviyesi için bir vekil olarak kullanmaya karar verdiniz. Kişi başına geliri tahmin etmek için veri kümenizdeki bazı özellikleri kullanmak istiyorsunuz. Bu görev bir sınıflandırma görevi mi yoksa bir regresyon görevi mi? Niçin?\n",
    "\n",
    "2. Aşağıdaki argümanlardan hangileri yanlıştır ve neden?\n",
    "\n",
    "\n",
    "    OLS, özel bir doğrusal regresyon modelidir.\n",
    "    Regresyon modelleri, doğrusal regresyon varsayımlarını karşılamıyorsa kullanışsız hale gelir.\n",
    "    Estimation ve prediction, doğrusal regresyon modelleri bağlamında aynı şeydir.\n",
    "    Doğrusal regresyon modeli sadece bir tür regresyon modelidir. Regresyon problemleri, Support Vector Machines veya Random Forests gibi başka modellerle de çözülebilir.\n",
    "\n",
    "3. Proje yöneticinizin, şirketinizin sunduğu hangi ücretsiz hizmetlerin, müşterilerinizin daha fazla ücretli hizmet satın almasını sağladığını bulmanızı istediğini varsayalım. Bu görevi bir regresyon problemi olarak formüle edin ve üzerinde çalışmak istediğiniz potansiyel sonucu ve özellikleri yazın."
   ]
  },
  {
   "cell_type": "markdown",
   "metadata": {},
   "source": [
    "1. Elimizdeki nicel degiskenlerden oturu regresyon analizi yapmamiz uygun olur."
   ]
  },
  {
   "cell_type": "markdown",
   "metadata": {},
   "source": [
    "2. OLS bir optimizasyon algoritmasidir ve dogrusal regrersyon modelinin tahmininde kulanilir. \n",
    "Regresyon modelleri, doğrusal regresyon varsayımlarını karşılamıyorsa kullanışsız hale gelir.\n",
    "Estimation ve prediction, doğrusal regresyon modelleri bağlamında aynı şeydir.\n"
   ]
  },
  {
   "cell_type": "markdown",
   "metadata": {},
   "source": []
  }
 ],
 "metadata": {
  "kernelspec": {
   "display_name": "Python 3",
   "language": "python",
   "name": "python3"
  },
  "language_info": {
   "codemirror_mode": {
    "name": "ipython",
    "version": 3
   },
   "file_extension": ".py",
   "mimetype": "text/x-python",
   "name": "python",
   "nbconvert_exporter": "python",
   "pygments_lexer": "ipython3",
   "version": "3.7.1"
  }
 },
 "nbformat": 4,
 "nbformat_minor": 2
}
